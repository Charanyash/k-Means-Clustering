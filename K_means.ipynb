{
 "cells": [
  {
   "cell_type": "code",
   "execution_count": 596,
   "id": "02d79161",
   "metadata": {},
   "outputs": [
    {
     "name": "stderr",
     "output_type": "stream",
     "text": [
      "\u001b[32m\u001b[1m   Resolving\u001b[22m\u001b[39m package versions...\n",
      "\u001b[32m\u001b[1m  No Changes\u001b[22m\u001b[39m to `~/.julia/environments/v1.8/Project.toml`\n",
      "\u001b[32m\u001b[1m  No Changes\u001b[22m\u001b[39m to `~/.julia/environments/v1.8/Manifest.toml`\n",
      "\u001b[32m\u001b[1m   Resolving\u001b[22m\u001b[39m package versions...\n",
      "\u001b[32m\u001b[1m  No Changes\u001b[22m\u001b[39m to `~/.julia/environments/v1.8/Project.toml`\n",
      "\u001b[32m\u001b[1m  No Changes\u001b[22m\u001b[39m to `~/.julia/environments/v1.8/Manifest.toml`\n",
      "\u001b[32m\u001b[1m   Resolving\u001b[22m\u001b[39m package versions...\n",
      "\u001b[32m\u001b[1m  No Changes\u001b[22m\u001b[39m to `~/.julia/environments/v1.8/Project.toml`\n",
      "\u001b[32m\u001b[1m  No Changes\u001b[22m\u001b[39m to `~/.julia/environments/v1.8/Manifest.toml`\n",
      "\u001b[32m\u001b[1m   Resolving\u001b[22m\u001b[39m package versions...\n",
      "\u001b[32m\u001b[1m  No Changes\u001b[22m\u001b[39m to `~/.julia/environments/v1.8/Project.toml`\n",
      "\u001b[32m\u001b[1m  No Changes\u001b[22m\u001b[39m to `~/.julia/environments/v1.8/Manifest.toml`\n",
      "\u001b[32m\u001b[1m   Resolving\u001b[22m\u001b[39m package versions...\n",
      "\u001b[32m\u001b[1m  No Changes\u001b[22m\u001b[39m to `~/.julia/environments/v1.8/Project.toml`\n",
      "\u001b[32m\u001b[1m  No Changes\u001b[22m\u001b[39m to `~/.julia/environments/v1.8/Manifest.toml`\n"
     ]
    }
   ],
   "source": [
    "using Pkg\n",
    "Pkg.add(\"CSV\")\n",
    "Pkg.add(\"DataFrames\")\n",
    "Pkg.add(\"Plots\")\n",
    "Pkg.add(\"LaTeXStrings\")\n",
    "Pkg.add(\"Dates\")"
   ]
  },
  {
   "cell_type": "code",
   "execution_count": 597,
   "id": "2e1e777a",
   "metadata": {},
   "outputs": [
    {
     "data": {
      "text/plain": [
       "(750, 6)"
      ]
     },
     "execution_count": 597,
     "metadata": {},
     "output_type": "execute_result"
    }
   ],
   "source": [
    "using CSV,DataFrames\n",
    "\n",
    "# Reading the csv file into a dataframe along with omitting the first data description lines. \n",
    "Data = CSV.read(\"dow_jones_index.csv\",normalizenames = true,header = false,skipto = 3,DataFrame)\n",
    "\n",
    "size(Data)"
   ]
  },
  {
   "cell_type": "code",
   "execution_count": 598,
   "id": "800ba107",
   "metadata": {},
   "outputs": [
    {
     "data": {
      "text/html": [
       "<div><div style = \"float: left;\"><span>5×6 DataFrame</span></div><div style = \"clear: both;\"></div></div><div class = \"data-frame\" style = \"overflow-x: scroll;\"><table class = \"data-frame\" style = \"margin-bottom: 6px;\"><thead><tr class = \"header\"><th class = \"rowNumber\" style = \"font-weight: bold; text-align: right;\">Row</th><th style = \"text-align: left;\">Column1</th><th style = \"text-align: left;\">Column2</th><th style = \"text-align: left;\">Column3</th><th style = \"text-align: left;\">Column4</th><th style = \"text-align: left;\">Column5</th><th style = \"text-align: left;\">Column6</th></tr><tr class = \"subheader headerLastRow\"><th class = \"rowNumber\" style = \"font-weight: bold; text-align: right;\"></th><th title = \"Float64\" style = \"text-align: left;\">Float64</th><th title = \"Float64\" style = \"text-align: left;\">Float64</th><th title = \"Float64\" style = \"text-align: left;\">Float64</th><th title = \"Float64\" style = \"text-align: left;\">Float64</th><th title = \"Float64\" style = \"text-align: left;\">Float64</th><th title = \"Float64\" style = \"text-align: left;\">Float64</th></tr></thead><tbody><tr><td class = \"rowNumber\" style = \"font-weight: bold; text-align: right;\">1</td><td style = \"text-align: right;\">0.0355474</td><td style = \"text-align: right;\">0.0341761</td><td style = \"text-align: right;\">0.159267</td><td style = \"text-align: right;\">0.759355</td><td style = \"text-align: right;\">0.077381</td><td style = \"text-align: right;\">0.0781579</td></tr><tr><td class = \"rowNumber\" style = \"font-weight: bold; text-align: right;\">2</td><td style = \"text-align: right;\">0.0354859</td><td style = \"text-align: right;\">0.0332867</td><td style = \"text-align: right;\">0.161558</td><td style = \"text-align: right;\">0.434474</td><td style = \"text-align: right;\">0.0565476</td><td style = \"text-align: right;\">0.081593</td></tr><tr><td class = \"rowNumber\" style = \"font-weight: bold; text-align: right;\">3</td><td style = \"text-align: right;\">0.0334563</td><td style = \"text-align: right;\">0.0330327</td><td style = \"text-align: right;\">0.0891514</td><td style = \"text-align: right;\">0.511842</td><td style = \"text-align: right;\">0.0357143</td><td style = \"text-align: right;\">0.0830223</td></tr><tr><td class = \"rowNumber\" style = \"font-weight: bold; text-align: right;\">4</td><td style = \"text-align: right;\">0.0349938</td><td style = \"text-align: right;\">0.0344302</td><td style = \"text-align: right;\">0.0981218</td><td style = \"text-align: right;\">0.674219</td><td style = \"text-align: right;\">0.014881</td><td style = \"text-align: right;\">0.0803499</td></tr><tr><td class = \"rowNumber\" style = \"font-weight: bold; text-align: right;\">5</td><td style = \"text-align: right;\">0.0396679</td><td style = \"text-align: right;\">0.0367171</td><td style = \"text-align: right;\">0.100206</td><td style = \"text-align: right;\">0.843945</td><td style = \"text-align: right;\">0.28869</td><td style = \"text-align: right;\">0.0730365</td></tr></tbody></table></div>"
      ],
      "text/latex": [
       "\\begin{tabular}{r|cccccc}\n",
       "\t& Column1 & Column2 & Column3 & Column4 & Column5 & Column6\\\\\n",
       "\t\\hline\n",
       "\t& Float64 & Float64 & Float64 & Float64 & Float64 & Float64\\\\\n",
       "\t\\hline\n",
       "\t1 & 0.0355474 & 0.0341761 & 0.159267 & 0.759355 & 0.077381 & 0.0781579 \\\\\n",
       "\t2 & 0.0354859 & 0.0332867 & 0.161558 & 0.434474 & 0.0565476 & 0.081593 \\\\\n",
       "\t3 & 0.0334563 & 0.0330327 & 0.0891514 & 0.511842 & 0.0357143 & 0.0830223 \\\\\n",
       "\t4 & 0.0349938 & 0.0344302 & 0.0981218 & 0.674219 & 0.014881 & 0.0803499 \\\\\n",
       "\t5 & 0.0396679 & 0.0367171 & 0.100206 & 0.843945 & 0.28869 & 0.0730365 \\\\\n",
       "\\end{tabular}\n"
      ],
      "text/plain": [
       "\u001b[1m5×6 DataFrame\u001b[0m\n",
       "\u001b[1m Row \u001b[0m│\u001b[1m Column1   \u001b[0m\u001b[1m Column2   \u001b[0m\u001b[1m Column3   \u001b[0m\u001b[1m Column4  \u001b[0m\u001b[1m Column5   \u001b[0m\u001b[1m Column6   \u001b[0m\n",
       "     │\u001b[90m Float64   \u001b[0m\u001b[90m Float64   \u001b[0m\u001b[90m Float64   \u001b[0m\u001b[90m Float64  \u001b[0m\u001b[90m Float64   \u001b[0m\u001b[90m Float64   \u001b[0m\n",
       "─────┼─────────────────────────────────────────────────────────────────\n",
       "   1 │ 0.0355474  0.0341761  0.159267   0.759355  0.077381   0.0781579\n",
       "   2 │ 0.0354859  0.0332867  0.161558   0.434474  0.0565476  0.081593\n",
       "   3 │ 0.0334563  0.0330327  0.0891514  0.511842  0.0357143  0.0830223\n",
       "   4 │ 0.0349938  0.0344302  0.0981218  0.674219  0.014881   0.0803499\n",
       "   5 │ 0.0396679  0.0367171  0.100206   0.843945  0.28869    0.0730365"
      ]
     },
     "execution_count": 598,
     "metadata": {},
     "output_type": "execute_result"
    }
   ],
   "source": [
    "# Normalizing the Data\n",
    "Data_copy = copy(Data)\n",
    "for k in propertynames(Data_copy)\n",
    "  col_max = maximum(Data_copy[:,k])\n",
    "  col_min = minimum(Data_copy[:,k])\n",
    "  Data_copy[!,k] = [(i - col_min)/(col_max - col_min) for i in Data_copy[:,k]]\n",
    "end\n",
    "first(Data_copy,5)\n"
   ]
  },
  {
   "cell_type": "code",
   "execution_count": 599,
   "id": "2d969be2",
   "metadata": {},
   "outputs": [
    {
     "name": "stdout",
     "output_type": "stream",
     "text": [
      "Number Of Clusters :\n",
      "stdin> 4\n"
     ]
    },
    {
     "data": {
      "text/plain": [
       "4"
      ]
     },
     "execution_count": 599,
     "metadata": {},
     "output_type": "execute_result"
    }
   ],
   "source": [
    "println(\"Number Of Clusters :\")\n",
    "s = readline()\n",
    "N = parse(Int,s)"
   ]
  },
  {
   "cell_type": "code",
   "execution_count": 600,
   "id": "10757c57",
   "metadata": {},
   "outputs": [
    {
     "name": "stdout",
     "output_type": "stream",
     "text": [
      "[215, 1, 161, 491]\n"
     ]
    },
    {
     "data": {
      "text/plain": [
       "4-element Vector{Vector{Float64}}:\n",
       " [0.3300738007380074, 0.3232753144454326, 0.03451092269714045, 0.5087482261501918, 0.25892857142857145, 0.456433122328154]\n",
       " [0.03554735547355473, 0.03417608944225638, 0.15926689300181568, 0.7593547237259797, 0.07738095238095238, 0.07815786112733697]\n",
       " [0.06623616236162362, 0.06752636259687461, 0.1858048945714111, 0.633316169488163, 0.2648809523809524, 0.510253389047989]\n",
       " [0.16562115621156212, 0.16656079278363614, 0.02989671427846357, 0.6200264926518853, 0.22023809523809523, 0.4003828280672787]"
      ]
     },
     "execution_count": 600,
     "metadata": {},
     "output_type": "execute_result"
    }
   ],
   "source": [
    "# Generate the N random centroids\n",
    "using Dates \n",
    "t_1 = now()\n",
    "indices = rand(1:nrow(Data_copy),N)\n",
    "println(indices)\n",
    "\n",
    "x = [Array(Data_copy[i,:]) for i in indices]"
   ]
  },
  {
   "cell_type": "code",
   "execution_count": 601,
   "id": "9da99b55",
   "metadata": {},
   "outputs": [
    {
     "data": {
      "text/plain": [
       "J_clust (generic function with 1 method)"
      ]
     },
     "execution_count": 601,
     "metadata": {},
     "output_type": "execute_result"
    }
   ],
   "source": [
    "function distance(vec1,vec2)\n",
    "    sum = 0.0\n",
    "    for i in 1 : length(vec1)\n",
    "     sum = sum + (vec1[i] - vec2[i])^2\n",
    "    end\n",
    "    sum = sqrt(sum)\n",
    "    return sum\n",
    "end\n",
    "\n",
    "function J_clust_k(Data,k,μ)\n",
    "    sum = 0.0\n",
    "    counts = 0\n",
    "   for i in 1 : nrow(Data)\n",
    "        if Data[i,end] == k\n",
    "          sum += distance(Array(Data[i,1:end-1]),μ[k])^2\n",
    "          counts +=1\n",
    "        end\n",
    "   end\n",
    "   loss = (sum)/(counts)\n",
    "   return loss\n",
    "end \n",
    "\n",
    "function J_clust(Data,μ)\n",
    "    total_loss = 0\n",
    "    for i in 1 : length(μ)\n",
    "        total_loss += J_clust_k(Data,i,μ)\n",
    "    end\n",
    "    return total_loss        \n",
    "end"
   ]
  },
  {
   "cell_type": "code",
   "execution_count": 602,
   "id": "870f72b8",
   "metadata": {},
   "outputs": [
    {
     "data": {
      "text/plain": [
       "2022-12-05T19:30:20.481"
      ]
     },
     "execution_count": 602,
     "metadata": {},
     "output_type": "execute_result"
    }
   ],
   "source": [
    "distances = []\n",
    "min_arr = [10000.0 1]\n",
    "\n",
    "n_row = nrow(Data_copy)\n",
    "\n",
    "Data_copy[!,:Cluster_no] = rand(1:N,n_row)\n",
    "\n",
    "n_col = ncol(Data_copy)\n",
    "\n",
    "iter = 0\n",
    "\n",
    "max_iter = 100\n",
    "\n",
    "J = zeros(max_iter+1,1)\n",
    "J[1] = J_clust(Data_copy,x) \n",
    "for i in 1 : max_iter\n",
    " for i in 1 : n_row\n",
    "    for j in 1 : N\n",
    "         k = distance(Array(Data_copy[i,1:n_col-1]),x[j])\n",
    "         push!(distances,k)\n",
    "         if min_arr[1] - distances[j] > 1e-6\n",
    "                 min_arr[1] = distances[j]\n",
    "                 min_arr[1,2] = j\n",
    "         end\n",
    "    end\n",
    "     Data_copy[i,n_col] = Int(min_arr[1,2])\n",
    "\n",
    "     distances = []\n",
    "     min_arr = [10000.0 1]\n",
    "        \n",
    " end\n",
    " \n",
    " counts = zeros(N)\n",
    "  x = zeros(N,n_col-1)\n",
    "\n",
    "  for i in 1 : n_row \n",
    "     Cluster_ID = Data_copy[i,:Cluster_no]\n",
    "     x[Cluster_ID,:]  = x[Cluster_ID,:] .+ Array(Data_copy[i,1:n_col-1])\n",
    "     counts[Cluster_ID] +=1\n",
    "  end\n",
    "\n",
    "\n",
    "  for j in 1 : N\n",
    "     x[j,:] = x[j,:]/counts[j]\n",
    "  end \n",
    "     iter +=1\n",
    "    x = [x[j,:] for j in 1 : N]\n",
    "    J[i+1] = J_clust(Data_copy,x)\n",
    "    \n",
    "    if abs(J[i] - J[i+1]) < 1e-6\n",
    "        break\n",
    "    end\n",
    "    \n",
    "# println(J_clust(Data_copy,x))\n",
    "end \n",
    "t_2 = now()"
   ]
  },
  {
   "cell_type": "code",
   "execution_count": 603,
   "id": "e79a97de",
   "metadata": {},
   "outputs": [
    {
     "name": "stdout",
     "output_type": "stream",
     "text": [
      "Number of Iterations required to converge : 19\n",
      "Number of vectors in Cluster 1 are : 123.0\n",
      "Number of vectors in Cluster 2 are : 149.0\n",
      "Number of vectors in Cluster 3 are : 175.0\n",
      "Number of vectors in Cluster 4 are : 303.0\n",
      "Run time of the Program :527 milliseconds\n"
     ]
    }
   ],
   "source": [
    "println(\"Number of Iterations required to converge : \",iter)\n",
    "\n",
    "for i in 1 : N\n",
    "    println(\"Number of vectors in Cluster \",i ,\" are : \",counts[i])\n",
    "end\n",
    "\n",
    "println(\"Run time of the Program :\",t_2-t_1)"
   ]
  },
  {
   "cell_type": "code",
   "execution_count": 604,
   "id": "50df1cc3",
   "metadata": {},
   "outputs": [
    {
     "data": {
      "text/plain": [
       "\"output.csv\""
      ]
     },
     "execution_count": 604,
     "metadata": {},
     "output_type": "execute_result"
    }
   ],
   "source": [
    "Data[!,:Cluster_no] = Data_copy[!,:Cluster_no]\n",
    "\n",
    "CSV.write(\"output.csv\",Data)\n"
   ]
  },
  {
   "cell_type": "code",
   "execution_count": 605,
   "id": "93090853",
   "metadata": {},
   "outputs": [
    {
     "data": {
      "image/svg+xml": "<?xml version=\"1.0\" encoding=\"utf-8\"?>\n<svg xmlns=\"http://www.w3.org/2000/svg\" xmlns:xlink=\"http://www.w3.org/1999/xlink\" width=\"600\" height=\"400\" viewBox=\"0 0 2400 1600\">\n<defs>\n  <clipPath id=\"clip950\">\n    <rect x=\"0\" y=\"0\" width=\"2400\" height=\"1600\"/>\n  </clipPath>\n</defs>\n<path clip-path=\"url(#clip950)\" d=\"\nM0 1600 L2400 1600 L2400 0 L0 0  Z\n  \" fill=\"#ffffff\" fill-rule=\"evenodd\" fill-opacity=\"1\"/>\n<defs>\n  <clipPath id=\"clip951\">\n    <rect x=\"480\" y=\"0\" width=\"1681\" height=\"1600\"/>\n  </clipPath>\n</defs>\n<defs>\n  <clipPath id=\"clip952\">\n    <rect x=\"219\" y=\"123\" width=\"2134\" height=\"1301\"/>\n  </clipPath>\n</defs>\n<path clip-path=\"url(#clip950)\" d=\"\nM219.866 1423.18 L2352.76 1423.18 L2352.76 123.472 L219.866 123.472  Z\n  \" fill=\"#ffffff\" fill-rule=\"evenodd\" fill-opacity=\"1\"/>\n<polyline clip-path=\"url(#clip952)\" style=\"stroke:#000000; stroke-linecap:round; stroke-linejoin:round; stroke-width:2; stroke-opacity:0.1; fill:none\" points=\"\n  280.231,1423.18 280.231,123.472 \n  \"/>\n<polyline clip-path=\"url(#clip952)\" style=\"stroke:#000000; stroke-linecap:round; stroke-linejoin:round; stroke-width:2; stroke-opacity:0.1; fill:none\" points=\"\n  809.747,1423.18 809.747,123.472 \n  \"/>\n<polyline clip-path=\"url(#clip952)\" style=\"stroke:#000000; stroke-linecap:round; stroke-linejoin:round; stroke-width:2; stroke-opacity:0.1; fill:none\" points=\"\n  1339.26,1423.18 1339.26,123.472 \n  \"/>\n<polyline clip-path=\"url(#clip952)\" style=\"stroke:#000000; stroke-linecap:round; stroke-linejoin:round; stroke-width:2; stroke-opacity:0.1; fill:none\" points=\"\n  1868.78,1423.18 1868.78,123.472 \n  \"/>\n<polyline clip-path=\"url(#clip950)\" style=\"stroke:#000000; stroke-linecap:round; stroke-linejoin:round; stroke-width:4; stroke-opacity:1; fill:none\" points=\"\n  219.866,1423.18 2352.76,1423.18 \n  \"/>\n<polyline clip-path=\"url(#clip950)\" style=\"stroke:#000000; stroke-linecap:round; stroke-linejoin:round; stroke-width:4; stroke-opacity:1; fill:none\" points=\"\n  280.231,1423.18 280.231,1404.28 \n  \"/>\n<polyline clip-path=\"url(#clip950)\" style=\"stroke:#000000; stroke-linecap:round; stroke-linejoin:round; stroke-width:4; stroke-opacity:1; fill:none\" points=\"\n  809.747,1423.18 809.747,1404.28 \n  \"/>\n<polyline clip-path=\"url(#clip950)\" style=\"stroke:#000000; stroke-linecap:round; stroke-linejoin:round; stroke-width:4; stroke-opacity:1; fill:none\" points=\"\n  1339.26,1423.18 1339.26,1404.28 \n  \"/>\n<polyline clip-path=\"url(#clip950)\" style=\"stroke:#000000; stroke-linecap:round; stroke-linejoin:round; stroke-width:4; stroke-opacity:1; fill:none\" points=\"\n  1868.78,1423.18 1868.78,1404.28 \n  \"/>\n<path clip-path=\"url(#clip950)\" d=\"M280.231 1454.1 Q276.62 1454.1 274.791 1457.66 Q272.986 1461.2 272.986 1468.33 Q272.986 1475.44 274.791 1479.01 Q276.62 1482.55 280.231 1482.55 Q283.865 1482.55 285.671 1479.01 Q287.5 1475.44 287.5 1468.33 Q287.5 1461.2 285.671 1457.66 Q283.865 1454.1 280.231 1454.1 M280.231 1450.39 Q286.041 1450.39 289.097 1455 Q292.175 1459.58 292.175 1468.33 Q292.175 1477.06 289.097 1481.67 Q286.041 1486.25 280.231 1486.25 Q274.421 1486.25 271.342 1481.67 Q268.287 1477.06 268.287 1468.33 Q268.287 1459.58 271.342 1455 Q274.421 1450.39 280.231 1450.39 Z\" fill=\"#000000\" fill-rule=\"evenodd\" fill-opacity=\"1\" /><path clip-path=\"url(#clip950)\" d=\"M800.025 1451.02 L818.381 1451.02 L818.381 1454.96 L804.307 1454.96 L804.307 1463.43 Q805.326 1463.08 806.344 1462.92 Q807.363 1462.73 808.381 1462.73 Q814.168 1462.73 817.548 1465.9 Q820.927 1469.08 820.927 1474.49 Q820.927 1480.07 817.455 1483.17 Q813.983 1486.25 807.664 1486.25 Q805.488 1486.25 803.219 1485.88 Q800.974 1485.51 798.566 1484.77 L798.566 1480.07 Q800.65 1481.2 802.872 1481.76 Q805.094 1482.32 807.571 1482.32 Q811.576 1482.32 813.914 1480.21 Q816.251 1478.1 816.251 1474.49 Q816.251 1470.88 813.914 1468.77 Q811.576 1466.67 807.571 1466.67 Q805.696 1466.67 803.821 1467.08 Q801.969 1467.5 800.025 1468.38 L800.025 1451.02 Z\" fill=\"#000000\" fill-rule=\"evenodd\" fill-opacity=\"1\" /><path clip-path=\"url(#clip950)\" d=\"M1313.95 1481.64 L1321.59 1481.64 L1321.59 1455.28 L1313.28 1456.95 L1313.28 1452.69 L1321.54 1451.02 L1326.22 1451.02 L1326.22 1481.64 L1333.86 1481.64 L1333.86 1485.58 L1313.95 1485.58 L1313.95 1481.64 Z\" fill=\"#000000\" fill-rule=\"evenodd\" fill-opacity=\"1\" /><path clip-path=\"url(#clip950)\" d=\"M1353.3 1454.1 Q1349.69 1454.1 1347.86 1457.66 Q1346.06 1461.2 1346.06 1468.33 Q1346.06 1475.44 1347.86 1479.01 Q1349.69 1482.55 1353.3 1482.55 Q1356.94 1482.55 1358.74 1479.01 Q1360.57 1475.44 1360.57 1468.33 Q1360.57 1461.2 1358.74 1457.66 Q1356.94 1454.1 1353.3 1454.1 M1353.3 1450.39 Q1359.11 1450.39 1362.17 1455 Q1365.25 1459.58 1365.25 1468.33 Q1365.25 1477.06 1362.17 1481.67 Q1359.11 1486.25 1353.3 1486.25 Q1347.49 1486.25 1344.41 1481.67 Q1341.36 1477.06 1341.36 1468.33 Q1341.36 1459.58 1344.41 1455 Q1347.49 1450.39 1353.3 1450.39 Z\" fill=\"#000000\" fill-rule=\"evenodd\" fill-opacity=\"1\" /><path clip-path=\"url(#clip950)\" d=\"M1843.96 1481.64 L1851.6 1481.64 L1851.6 1455.28 L1843.29 1456.95 L1843.29 1452.69 L1851.56 1451.02 L1856.23 1451.02 L1856.23 1481.64 L1863.87 1481.64 L1863.87 1485.58 L1843.96 1485.58 L1843.96 1481.64 Z\" fill=\"#000000\" fill-rule=\"evenodd\" fill-opacity=\"1\" /><path clip-path=\"url(#clip950)\" d=\"M1873.36 1451.02 L1891.72 1451.02 L1891.72 1454.96 L1877.64 1454.96 L1877.64 1463.43 Q1878.66 1463.08 1879.68 1462.92 Q1880.7 1462.73 1881.72 1462.73 Q1887.51 1462.73 1890.88 1465.9 Q1894.26 1469.08 1894.26 1474.49 Q1894.26 1480.07 1890.79 1483.17 Q1887.32 1486.25 1881 1486.25 Q1878.82 1486.25 1876.56 1485.88 Q1874.31 1485.51 1871.9 1484.77 L1871.9 1480.07 Q1873.99 1481.2 1876.21 1481.76 Q1878.43 1482.32 1880.91 1482.32 Q1884.91 1482.32 1887.25 1480.21 Q1889.59 1478.1 1889.59 1474.49 Q1889.59 1470.88 1887.25 1468.77 Q1884.91 1466.67 1880.91 1466.67 Q1879.03 1466.67 1877.16 1467.08 Q1875.31 1467.5 1873.36 1468.38 L1873.36 1451.02 Z\" fill=\"#000000\" fill-rule=\"evenodd\" fill-opacity=\"1\" /><path clip-path=\"url(#clip950)\" d=\"M1090.31 1520.52 L1096.74 1520.52 L1096.74 1568.04 L1090.31 1568.04 L1090.31 1520.52 Z\" fill=\"#000000\" fill-rule=\"evenodd\" fill-opacity=\"1\" /><path clip-path=\"url(#clip950)\" d=\"M1115.07 1522.27 L1115.07 1532.4 L1127.14 1532.4 L1127.14 1536.95 L1115.07 1536.95 L1115.07 1556.3 Q1115.07 1560.66 1116.25 1561.9 Q1117.46 1563.14 1121.12 1563.14 L1127.14 1563.14 L1127.14 1568.04 L1121.12 1568.04 Q1114.34 1568.04 1111.76 1565.53 Q1109.19 1562.98 1109.19 1556.3 L1109.19 1536.95 L1104.89 1536.95 L1104.89 1532.4 L1109.19 1532.4 L1109.19 1522.27 L1115.07 1522.27 Z\" fill=\"#000000\" fill-rule=\"evenodd\" fill-opacity=\"1\" /><path clip-path=\"url(#clip950)\" d=\"M1165.33 1548.76 L1165.33 1551.62 L1138.4 1551.62 Q1138.79 1557.67 1142.03 1560.85 Q1145.31 1564 1151.14 1564 Q1154.51 1564 1157.66 1563.17 Q1160.84 1562.35 1163.96 1560.69 L1163.96 1566.23 Q1160.81 1567.57 1157.5 1568.27 Q1154.19 1568.97 1150.79 1568.97 Q1142.26 1568.97 1137.26 1564 Q1132.29 1559.04 1132.29 1550.57 Q1132.29 1541.82 1137 1536.69 Q1141.75 1531.54 1149.77 1531.54 Q1156.96 1531.54 1161.13 1536.18 Q1165.33 1540.8 1165.33 1548.76 M1159.47 1547.04 Q1159.41 1542.23 1156.77 1539.37 Q1154.16 1536.5 1149.83 1536.5 Q1144.93 1536.5 1141.97 1539.27 Q1139.04 1542.04 1138.59 1547.07 L1159.47 1547.04 Z\" fill=\"#000000\" fill-rule=\"evenodd\" fill-opacity=\"1\" /><path clip-path=\"url(#clip950)\" d=\"M1195.6 1537.87 Q1194.61 1537.3 1193.44 1537.04 Q1192.29 1536.76 1190.89 1536.76 Q1185.92 1536.76 1183.25 1540 Q1180.61 1543.22 1180.61 1549.27 L1180.61 1568.04 L1174.72 1568.04 L1174.72 1532.4 L1180.61 1532.4 L1180.61 1537.93 Q1182.45 1534.69 1185.41 1533.13 Q1188.37 1531.54 1192.61 1531.54 Q1193.21 1531.54 1193.94 1531.63 Q1194.68 1531.7 1195.57 1531.85 L1195.6 1537.87 Z\" fill=\"#000000\" fill-rule=\"evenodd\" fill-opacity=\"1\" /><path clip-path=\"url(#clip950)\" d=\"M1217.94 1550.12 Q1210.85 1550.12 1208.11 1551.75 Q1205.37 1553.37 1205.37 1557.29 Q1205.37 1560.4 1207.41 1562.25 Q1209.48 1564.07 1213.01 1564.07 Q1217.88 1564.07 1220.81 1560.63 Q1223.77 1557.16 1223.77 1551.43 L1223.77 1550.12 L1217.94 1550.12 M1229.62 1547.71 L1229.62 1568.04 L1223.77 1568.04 L1223.77 1562.63 Q1221.76 1565.88 1218.77 1567.44 Q1215.78 1568.97 1211.45 1568.97 Q1205.98 1568.97 1202.73 1565.91 Q1199.51 1562.82 1199.51 1557.67 Q1199.51 1551.65 1203.53 1548.6 Q1207.57 1545.54 1215.56 1545.54 L1223.77 1545.54 L1223.77 1544.97 Q1223.77 1540.93 1221.09 1538.73 Q1218.45 1536.5 1213.65 1536.5 Q1210.59 1536.5 1207.69 1537.23 Q1204.8 1537.97 1202.12 1539.43 L1202.12 1534.02 Q1205.34 1532.78 1208.36 1532.17 Q1211.39 1531.54 1214.25 1531.54 Q1221.99 1531.54 1225.81 1535.55 Q1229.62 1539.56 1229.62 1547.71 Z\" fill=\"#000000\" fill-rule=\"evenodd\" fill-opacity=\"1\" /><path clip-path=\"url(#clip950)\" d=\"M1247.48 1522.27 L1247.48 1532.4 L1259.54 1532.4 L1259.54 1536.95 L1247.48 1536.95 L1247.48 1556.3 Q1247.48 1560.66 1248.66 1561.9 Q1249.87 1563.14 1253.53 1563.14 L1259.54 1563.14 L1259.54 1568.04 L1253.53 1568.04 Q1246.75 1568.04 1244.17 1565.53 Q1241.59 1562.98 1241.59 1556.3 L1241.59 1536.95 L1237.3 1536.95 L1237.3 1532.4 L1241.59 1532.4 L1241.59 1522.27 L1247.48 1522.27 Z\" fill=\"#000000\" fill-rule=\"evenodd\" fill-opacity=\"1\" /><path clip-path=\"url(#clip950)\" d=\"M1267.25 1532.4 L1273.1 1532.4 L1273.1 1568.04 L1267.25 1568.04 L1267.25 1532.4 M1267.25 1518.52 L1273.1 1518.52 L1273.1 1525.93 L1267.25 1525.93 L1267.25 1518.52 Z\" fill=\"#000000\" fill-rule=\"evenodd\" fill-opacity=\"1\" /><path clip-path=\"url(#clip950)\" d=\"M1299.17 1536.5 Q1294.46 1536.5 1291.72 1540.19 Q1288.98 1543.85 1288.98 1550.25 Q1288.98 1556.65 1291.69 1560.34 Q1294.43 1564 1299.17 1564 Q1303.85 1564 1306.59 1560.31 Q1309.32 1556.62 1309.32 1550.25 Q1309.32 1543.92 1306.59 1540.23 Q1303.85 1536.5 1299.17 1536.5 M1299.17 1531.54 Q1306.81 1531.54 1311.17 1536.5 Q1315.53 1541.47 1315.53 1550.25 Q1315.53 1559 1311.17 1564 Q1306.81 1568.97 1299.17 1568.97 Q1291.5 1568.97 1287.14 1564 Q1282.81 1559 1282.81 1550.25 Q1282.81 1541.47 1287.14 1536.5 Q1291.5 1531.54 1299.17 1531.54 Z\" fill=\"#000000\" fill-rule=\"evenodd\" fill-opacity=\"1\" /><path clip-path=\"url(#clip950)\" d=\"M1354.87 1546.53 L1354.87 1568.04 L1349.01 1568.04 L1349.01 1546.72 Q1349.01 1541.66 1347.04 1539.14 Q1345.07 1536.63 1341.12 1536.63 Q1336.38 1536.63 1333.64 1539.65 Q1330.9 1542.68 1330.9 1547.9 L1330.9 1568.04 L1325.01 1568.04 L1325.01 1532.4 L1330.9 1532.4 L1330.9 1537.93 Q1333 1534.72 1335.84 1533.13 Q1338.7 1531.54 1342.42 1531.54 Q1348.57 1531.54 1351.72 1535.36 Q1354.87 1539.14 1354.87 1546.53 Z\" fill=\"#000000\" fill-rule=\"evenodd\" fill-opacity=\"1\" /><path clip-path=\"url(#clip950)\" d=\"M1387.53 1520.52 L1396.18 1520.52 L1417.25 1560.28 L1417.25 1520.52 L1423.49 1520.52 L1423.49 1568.04 L1414.83 1568.04 L1393.76 1528.29 L1393.76 1568.04 L1387.53 1568.04 L1387.53 1520.52 Z\" fill=\"#000000\" fill-rule=\"evenodd\" fill-opacity=\"1\" /><path clip-path=\"url(#clip950)\" d=\"M1449.85 1536.5 Q1445.14 1536.5 1442.4 1540.19 Q1439.66 1543.85 1439.66 1550.25 Q1439.66 1556.65 1442.37 1560.34 Q1445.1 1564 1449.85 1564 Q1454.52 1564 1457.26 1560.31 Q1460 1556.62 1460 1550.25 Q1460 1543.92 1457.26 1540.23 Q1454.52 1536.5 1449.85 1536.5 M1449.85 1531.54 Q1457.48 1531.54 1461.85 1536.5 Q1466.21 1541.47 1466.21 1550.25 Q1466.21 1559 1461.85 1564 Q1457.48 1568.97 1449.85 1568.97 Q1442.18 1568.97 1437.81 1564 Q1433.49 1559 1433.49 1550.25 Q1433.49 1541.47 1437.81 1536.5 Q1442.18 1531.54 1449.85 1531.54 Z\" fill=\"#000000\" fill-rule=\"evenodd\" fill-opacity=\"1\" /><path clip-path=\"url(#clip950)\" d=\"M1475.6 1559.96 L1482.31 1559.96 L1482.31 1568.04 L1475.6 1568.04 L1475.6 1559.96 Z\" fill=\"#000000\" fill-rule=\"evenodd\" fill-opacity=\"1\" /><polyline clip-path=\"url(#clip952)\" style=\"stroke:#000000; stroke-linecap:round; stroke-linejoin:round; stroke-width:2; stroke-opacity:0.1; fill:none\" points=\"\n  219.866,1225.27 2352.76,1225.27 \n  \"/>\n<polyline clip-path=\"url(#clip952)\" style=\"stroke:#000000; stroke-linecap:round; stroke-linejoin:round; stroke-width:2; stroke-opacity:0.1; fill:none\" points=\"\n  219.866,936.665 2352.76,936.665 \n  \"/>\n<polyline clip-path=\"url(#clip952)\" style=\"stroke:#000000; stroke-linecap:round; stroke-linejoin:round; stroke-width:2; stroke-opacity:0.1; fill:none\" points=\"\n  219.866,648.061 2352.76,648.061 \n  \"/>\n<polyline clip-path=\"url(#clip952)\" style=\"stroke:#000000; stroke-linecap:round; stroke-linejoin:round; stroke-width:2; stroke-opacity:0.1; fill:none\" points=\"\n  219.866,359.458 2352.76,359.458 \n  \"/>\n<polyline clip-path=\"url(#clip950)\" style=\"stroke:#000000; stroke-linecap:round; stroke-linejoin:round; stroke-width:4; stroke-opacity:1; fill:none\" points=\"\n  219.866,1423.18 219.866,123.472 \n  \"/>\n<polyline clip-path=\"url(#clip950)\" style=\"stroke:#000000; stroke-linecap:round; stroke-linejoin:round; stroke-width:4; stroke-opacity:1; fill:none\" points=\"\n  219.866,1225.27 238.764,1225.27 \n  \"/>\n<polyline clip-path=\"url(#clip950)\" style=\"stroke:#000000; stroke-linecap:round; stroke-linejoin:round; stroke-width:4; stroke-opacity:1; fill:none\" points=\"\n  219.866,936.665 238.764,936.665 \n  \"/>\n<polyline clip-path=\"url(#clip950)\" style=\"stroke:#000000; stroke-linecap:round; stroke-linejoin:round; stroke-width:4; stroke-opacity:1; fill:none\" points=\"\n  219.866,648.061 238.764,648.061 \n  \"/>\n<polyline clip-path=\"url(#clip950)\" style=\"stroke:#000000; stroke-linecap:round; stroke-linejoin:round; stroke-width:4; stroke-opacity:1; fill:none\" points=\"\n  219.866,359.458 238.764,359.458 \n  \"/>\n<path clip-path=\"url(#clip950)\" d=\"M126.205 1211.07 Q122.593 1211.07 120.765 1214.63 Q118.959 1218.17 118.959 1225.3 Q118.959 1232.41 120.765 1235.97 Q122.593 1239.52 126.205 1239.52 Q129.839 1239.52 131.644 1235.97 Q133.473 1232.41 133.473 1225.3 Q133.473 1218.17 131.644 1214.63 Q129.839 1211.07 126.205 1211.07 M126.205 1207.36 Q132.015 1207.36 135.07 1211.97 Q138.149 1216.55 138.149 1225.3 Q138.149 1234.03 135.07 1238.64 Q132.015 1243.22 126.205 1243.22 Q120.394 1243.22 117.316 1238.64 Q114.26 1234.03 114.26 1225.3 Q114.26 1216.55 117.316 1211.97 Q120.394 1207.36 126.205 1207.36 Z\" fill=\"#000000\" fill-rule=\"evenodd\" fill-opacity=\"1\" /><path clip-path=\"url(#clip950)\" d=\"M146.366 1236.67 L151.251 1236.67 L151.251 1242.55 L146.366 1242.55 L146.366 1236.67 Z\" fill=\"#000000\" fill-rule=\"evenodd\" fill-opacity=\"1\" /><path clip-path=\"url(#clip950)\" d=\"M174.283 1212.06 L162.477 1230.51 L174.283 1230.51 L174.283 1212.06 M173.056 1207.99 L178.936 1207.99 L178.936 1230.51 L183.866 1230.51 L183.866 1234.4 L178.936 1234.4 L178.936 1242.55 L174.283 1242.55 L174.283 1234.4 L158.681 1234.4 L158.681 1229.89 L173.056 1207.99 Z\" fill=\"#000000\" fill-rule=\"evenodd\" fill-opacity=\"1\" /><path clip-path=\"url(#clip950)\" d=\"M126.529 922.464 Q122.918 922.464 121.089 926.028 Q119.283 929.57 119.283 936.7 Q119.283 943.806 121.089 947.371 Q122.918 950.912 126.529 950.912 Q130.163 950.912 131.968 947.371 Q133.797 943.806 133.797 936.7 Q133.797 929.57 131.968 926.028 Q130.163 922.464 126.529 922.464 M126.529 918.76 Q132.339 918.76 135.394 923.366 Q138.473 927.95 138.473 936.7 Q138.473 945.426 135.394 950.033 Q132.339 954.616 126.529 954.616 Q120.718 954.616 117.64 950.033 Q114.584 945.426 114.584 936.7 Q114.584 927.95 117.64 923.366 Q120.718 918.76 126.529 918.76 Z\" fill=\"#000000\" fill-rule=\"evenodd\" fill-opacity=\"1\" /><path clip-path=\"url(#clip950)\" d=\"M146.691 948.065 L151.575 948.065 L151.575 953.945 L146.691 953.945 L146.691 948.065 Z\" fill=\"#000000\" fill-rule=\"evenodd\" fill-opacity=\"1\" /><path clip-path=\"url(#clip950)\" d=\"M172.339 934.801 Q169.19 934.801 167.339 936.954 Q165.51 939.107 165.51 942.857 Q165.51 946.584 167.339 948.76 Q169.19 950.912 172.339 950.912 Q175.487 950.912 177.315 948.76 Q179.167 946.584 179.167 942.857 Q179.167 939.107 177.315 936.954 Q175.487 934.801 172.339 934.801 M181.621 920.149 L181.621 924.408 Q179.862 923.575 178.056 923.135 Q176.274 922.695 174.514 922.695 Q169.885 922.695 167.431 925.82 Q165.001 928.945 164.653 935.264 Q166.019 933.25 168.079 932.186 Q170.139 931.098 172.616 931.098 Q177.825 931.098 180.834 934.269 Q183.866 937.417 183.866 942.857 Q183.866 948.181 180.718 951.399 Q177.57 954.616 172.339 954.616 Q166.343 954.616 163.172 950.033 Q160.001 945.426 160.001 936.7 Q160.001 928.505 163.89 923.644 Q167.778 918.76 174.329 918.76 Q176.089 918.76 177.871 919.107 Q179.676 919.454 181.621 920.149 Z\" fill=\"#000000\" fill-rule=\"evenodd\" fill-opacity=\"1\" /><path clip-path=\"url(#clip950)\" d=\"M126.783 633.86 Q123.172 633.86 121.343 637.425 Q119.538 640.966 119.538 648.096 Q119.538 655.202 121.343 658.767 Q123.172 662.309 126.783 662.309 Q130.417 662.309 132.223 658.767 Q134.052 655.202 134.052 648.096 Q134.052 640.966 132.223 637.425 Q130.417 633.86 126.783 633.86 M126.783 630.156 Q132.593 630.156 135.649 634.763 Q138.728 639.346 138.728 648.096 Q138.728 656.823 135.649 661.429 Q132.593 666.013 126.783 666.013 Q120.973 666.013 117.894 661.429 Q114.839 656.823 114.839 648.096 Q114.839 639.346 117.894 634.763 Q120.973 630.156 126.783 630.156 Z\" fill=\"#000000\" fill-rule=\"evenodd\" fill-opacity=\"1\" /><path clip-path=\"url(#clip950)\" d=\"M146.945 659.462 L151.829 659.462 L151.829 665.341 L146.945 665.341 L146.945 659.462 Z\" fill=\"#000000\" fill-rule=\"evenodd\" fill-opacity=\"1\" /><path clip-path=\"url(#clip950)\" d=\"M172.014 648.929 Q168.681 648.929 166.76 650.712 Q164.862 652.494 164.862 655.619 Q164.862 658.744 166.76 660.526 Q168.681 662.309 172.014 662.309 Q175.348 662.309 177.269 660.526 Q179.19 658.721 179.19 655.619 Q179.19 652.494 177.269 650.712 Q175.371 648.929 172.014 648.929 M167.339 646.939 Q164.329 646.198 162.64 644.138 Q160.973 642.077 160.973 639.115 Q160.973 634.971 163.913 632.564 Q166.876 630.156 172.014 630.156 Q177.176 630.156 180.116 632.564 Q183.056 634.971 183.056 639.115 Q183.056 642.077 181.366 644.138 Q179.7 646.198 176.714 646.939 Q180.093 647.726 181.968 650.017 Q183.866 652.309 183.866 655.619 Q183.866 660.642 180.788 663.327 Q177.732 666.013 172.014 666.013 Q166.297 666.013 163.218 663.327 Q160.163 660.642 160.163 655.619 Q160.163 652.309 162.061 650.017 Q163.959 647.726 167.339 646.939 M165.626 639.554 Q165.626 642.239 167.292 643.744 Q168.982 645.249 172.014 645.249 Q175.024 645.249 176.714 643.744 Q178.426 642.239 178.426 639.554 Q178.426 636.869 176.714 635.365 Q175.024 633.86 172.014 633.86 Q168.982 633.86 167.292 635.365 Q165.626 636.869 165.626 639.554 Z\" fill=\"#000000\" fill-rule=\"evenodd\" fill-opacity=\"1\" /><path clip-path=\"url(#clip950)\" d=\"M117.501 372.802 L125.14 372.802 L125.14 346.437 L116.83 348.104 L116.83 343.844 L125.093 342.178 L129.769 342.178 L129.769 372.802 L137.408 372.802 L137.408 376.738 L117.501 376.738 L117.501 372.802 Z\" fill=\"#000000\" fill-rule=\"evenodd\" fill-opacity=\"1\" /><path clip-path=\"url(#clip950)\" d=\"M146.853 370.858 L151.737 370.858 L151.737 376.738 L146.853 376.738 L146.853 370.858 Z\" fill=\"#000000\" fill-rule=\"evenodd\" fill-opacity=\"1\" /><path clip-path=\"url(#clip950)\" d=\"M171.922 345.256 Q168.311 345.256 166.482 348.821 Q164.677 352.363 164.677 359.492 Q164.677 366.599 166.482 370.164 Q168.311 373.705 171.922 373.705 Q175.556 373.705 177.362 370.164 Q179.19 366.599 179.19 359.492 Q179.19 352.363 177.362 348.821 Q175.556 345.256 171.922 345.256 M171.922 341.553 Q177.732 341.553 180.788 346.159 Q183.866 350.742 183.866 359.492 Q183.866 368.219 180.788 372.826 Q177.732 377.409 171.922 377.409 Q166.112 377.409 163.033 372.826 Q159.978 368.219 159.978 359.492 Q159.978 350.742 163.033 346.159 Q166.112 341.553 171.922 341.553 Z\" fill=\"#000000\" fill-rule=\"evenodd\" fill-opacity=\"1\" /><path clip-path=\"url(#clip950)\" d=\"M17.3151 809.391 Q17.927 809.391 18.2169 809.649 Q18.4745 809.906 18.5389 810.196 Q18.5711 810.486 18.5711 811.162 Q18.5711 812.547 18.6678 813.288 Q18.7644 814.029 19.1831 814.48 Q19.5695 814.93 19.956 815.091 Q20.3425 815.22 21.3408 815.446 L52.1297 823.175 Q56.8639 824.367 59.9557 828.682 Q63.0152 832.998 63.0152 837.732 Q63.0152 841.597 60.9863 844.044 Q58.9251 846.46 55.8333 846.46 Q54.2552 846.46 53.128 845.945 Q52.0008 845.429 51.4855 844.656 Q50.9702 843.883 50.777 843.239 Q50.5516 842.563 50.5516 842.016 Q50.5516 840.953 51.2279 840.051 Q51.9042 839.117 53.3213 839.117 Q54.8994 839.117 56.2198 840.341 Q57.5402 841.565 57.5402 843.4 Q57.5402 844.012 57.4758 844.206 Q59.0539 843.722 60.0523 842.466 Q61.0185 841.21 61.3083 840.115 Q61.566 838.988 61.566 837.925 Q61.566 835.156 58.8929 832.354 Q56.2198 829.552 51.6788 828.425 L21.4053 820.856 Q20.3747 820.599 20.0204 820.599 Q19.3441 820.599 19.1186 821.017 Q18.861 821.404 18.7 822.628 Q18.5711 824.27 18.5711 826.46 Q18.5711 827.233 18.5711 827.555 Q18.5389 827.877 18.4745 828.199 Q18.4101 828.521 18.2813 828.618 Q18.1203 828.715 17.8304 828.715 Q17.2185 828.715 16.9286 828.457 Q16.6066 828.199 16.5744 827.974 Q16.51 827.748 16.51 827.33 L16.7032 817.636 Q16.7032 816.798 16.6066 813.964 Q16.51 811.13 16.51 810.293 Q16.51 809.391 17.3151 809.391 Z\" fill=\"#000000\" fill-rule=\"evenodd\" fill-opacity=\"1\" /><path clip-path=\"url(#clip950)\" d=\"M76.6983 784.93 Q76.9012 784.749 77.1041 784.749 Q77.307 784.749 77.8932 785.2 Q78.4793 785.628 79.2684 786.553 Q80.0574 787.477 80.8014 788.672 Q81.5453 789.867 82.0413 791.625 Q82.5598 793.384 82.5598 795.232 Q82.5598 798.681 80.2828 800.71 Q78.0059 802.717 74.737 802.717 Q71.5583 802.717 68.5148 800.936 Q65.4488 799.155 63.5551 796.269 Q61.6389 793.384 61.6389 790.34 Q61.6389 787.928 62.7661 786.417 Q63.8933 784.907 65.6066 784.907 Q66.9367 784.907 67.7483 785.673 Q68.5599 786.44 68.5599 787.477 Q68.5599 788.198 68.1541 788.694 Q67.7258 789.19 66.9367 789.19 Q65.9222 789.19 65.1332 788.356 Q64.8176 788.041 64.6823 787.68 Q64.5245 787.297 64.5245 787.071 Q64.502 786.846 64.502 786.327 Q63.6228 786.801 63.1493 787.928 Q62.6534 789.033 62.6534 790.295 Q62.6534 792.166 63.9609 793.947 Q65.2459 795.728 67.2749 796.81 Q69.2588 797.892 72.0768 798.591 Q74.8723 799.29 76.4954 799.29 Q78.7273 799.29 80.125 798.253 Q81.5228 797.216 81.5228 795.142 Q81.5228 794.736 81.5002 794.308 Q81.4777 793.857 81.2297 792.73 Q80.9817 791.58 80.5534 790.566 Q80.125 789.551 79.2007 788.266 Q78.2539 786.958 76.9689 785.921 Q76.4954 785.561 76.4954 785.313 Q76.4954 785.11 76.6983 784.93 Z\" fill=\"#000000\" fill-rule=\"evenodd\" fill-opacity=\"1\" /><path clip-path=\"url(#clip950)\" d=\"M50.5021 773.429 L77.1943 780.079 Q78.2539 780.35 79.4036 780.35 Q81.5228 780.35 81.5228 778.952 Q81.5228 778.298 81.0944 777.757 Q80.6435 777.216 79.7643 776.81 Q78.8626 776.382 78.0059 776.111 Q77.1492 775.818 75.8191 775.458 Q75.3006 775.345 75.1428 775.232 Q74.985 775.119 74.985 774.804 Q74.985 774.24 75.4359 774.24 Q78.2088 774.804 79.9672 775.638 Q82.5598 776.855 82.5598 779.11 Q82.5598 780.801 81.3875 782.063 Q80.1927 783.303 78.299 783.303 Q77.5776 783.303 76.7209 783.078 L53.6357 777.261 L52.7339 777.103 Q52.486 777.103 52.3507 777.194 Q52.2154 777.284 52.0802 777.825 Q51.9449 778.343 51.9449 779.38 Q51.9449 779.809 51.9224 780.012 Q51.8998 780.192 51.7871 780.372 Q51.6744 780.53 51.4264 780.53 Q51.0206 780.53 50.7952 780.372 Q50.5697 780.192 50.5246 780.057 Q50.4795 779.921 50.457 779.651 Q50.4345 779.268 50.3217 777.983 Q50.1865 776.698 50.0963 775.593 Q50.0061 774.488 50.0061 774.015 Q50.0061 773.744 50.1414 773.609 Q50.2541 773.451 50.3894 773.429 L50.5021 773.429 Z\" fill=\"#000000\" fill-rule=\"evenodd\" fill-opacity=\"1\" /><path clip-path=\"url(#clip950)\" d=\"M75.4359 746.313 Q78.344 746.899 80.0123 747.688 Q82.5598 748.973 82.5598 751.115 Q82.5598 752.603 81.7257 753.73 Q80.869 754.835 79.4487 755.218 Q80.0123 755.646 80.3956 756.029 Q80.7788 756.39 81.365 757.089 Q81.9286 757.788 82.2442 758.735 Q82.5598 759.659 82.5598 760.719 Q82.5598 761.53 82.402 762.274 Q82.2667 763.018 81.8835 763.807 Q81.4777 764.574 80.869 765.137 Q80.2603 765.678 79.2684 766.039 Q78.2764 766.4 77.0139 766.4 Q75.4359 766.4 73.2942 765.791 Q71.1525 765.16 67.32 763.717 Q65.291 762.928 64.1638 762.928 Q63.6453 762.928 63.3071 763.041 Q62.969 763.153 62.8563 763.379 Q62.721 763.582 62.6984 763.717 Q62.6534 763.852 62.6534 764.078 Q62.6534 765.475 64.0736 766.693 Q65.4939 767.91 68.3796 768.744 Q68.9432 768.925 69.0784 769.037 Q69.2137 769.15 69.2137 769.488 Q69.1911 770.052 68.7403 770.052 Q68.5599 770.052 67.861 769.849 Q67.1396 769.646 66.0801 769.173 Q64.9979 768.677 64.0285 768 Q63.0366 767.324 62.3377 766.264 Q61.6389 765.182 61.6389 763.942 Q61.6389 762.252 62.7435 761.215 Q63.8256 760.155 65.4263 760.155 Q66.4182 760.155 68.3345 760.944 Q74.985 763.446 77.7579 763.446 Q81.5228 763.446 81.5228 760.583 Q81.5228 759.637 81.1395 758.757 Q80.7563 757.856 80.2152 757.269 Q79.6742 756.683 79.088 756.232 Q78.5019 755.759 78.1186 755.556 Q77.7354 755.331 77.6452 755.308 L63.758 751.859 Q63.217 751.724 62.8563 751.476 Q62.473 751.205 62.3377 750.889 Q62.2025 750.574 62.1799 750.393 Q62.1348 750.213 62.1348 750.055 Q62.1348 749.492 62.473 749.108 Q62.8112 748.703 63.3973 748.703 Q63.51 748.703 64.0511 748.838 Q64.5696 748.951 65.3361 749.131 Q66.0801 749.311 66.4859 749.402 Q69.3264 750.123 69.6195 750.191 L74.6017 751.476 Q74.8948 751.543 75.8417 751.769 Q76.7885 751.972 77.2845 752.084 Q77.7579 752.197 78.4117 752.31 Q79.0429 752.4 79.4036 752.4 Q80.5308 752.4 81.0268 752.062 Q81.5228 751.724 81.5228 750.98 Q81.5228 750.281 81.0493 749.74 Q80.5534 749.176 79.6065 748.748 Q78.6371 748.319 77.8481 748.071 Q77.059 747.823 75.8191 747.508 Q75.2781 747.395 75.1428 747.305 Q74.985 747.192 74.985 746.877 Q74.985 746.313 75.4359 746.313 Z\" fill=\"#000000\" fill-rule=\"evenodd\" fill-opacity=\"1\" /><path clip-path=\"url(#clip950)\" d=\"M65.6066 726.537 Q66.8691 726.537 67.5454 727.168 Q68.1992 727.799 68.1992 728.656 Q68.1992 729.355 67.7934 729.738 Q67.3876 730.099 66.8466 730.099 Q66.0575 730.099 65.4263 729.468 Q64.795 728.814 64.7725 727.867 Q63.9384 728.183 63.4424 729.017 Q62.9239 729.851 62.7886 730.595 Q62.6534 731.316 62.6534 732.038 Q62.6534 733.458 63.1042 734.54 Q63.5551 735.622 64.254 736.163 Q64.9303 736.704 65.5841 736.952 Q66.2379 737.2 66.8015 737.2 Q67.2974 737.2 67.7032 737.087 Q68.0865 736.952 68.3796 736.637 Q68.6501 736.321 68.8304 736.096 Q69.0108 735.848 69.1686 735.307 Q69.3264 734.765 69.394 734.54 Q69.4391 734.315 69.5744 733.683 Q69.8449 732.376 70.0027 731.79 Q70.138 731.203 70.5212 730.437 Q70.9045 729.648 71.5132 729.062 Q72.9335 727.642 74.8948 727.642 Q75.6162 727.642 76.4954 727.89 Q77.3747 728.115 78.4793 728.769 Q79.584 729.423 80.4632 730.414 Q81.3424 731.406 81.9511 733.12 Q82.5598 734.811 82.5598 736.93 Q82.5598 739.883 81.3199 741.709 Q80.0574 743.535 78.0735 743.535 Q76.6307 743.535 75.8417 742.746 Q75.0301 741.957 75.0301 740.943 Q75.0301 740.176 75.4584 739.703 Q75.8642 739.229 76.6307 739.229 Q77.6677 739.229 78.4568 740.063 Q79.2458 740.897 79.088 742.137 Q81.5228 741.078 81.5228 736.885 Q81.5228 735.307 81.117 734.089 Q80.6886 732.849 80.1025 732.173 Q79.4938 731.474 78.7498 731.023 Q78.0059 730.572 77.4423 730.437 Q76.8787 730.279 76.4503 730.279 Q75.7064 730.279 75.1428 730.572 Q74.5792 730.865 74.2636 731.271 Q73.9254 731.654 73.6549 732.398 Q73.3618 733.12 73.2491 733.638 Q73.1364 734.157 72.956 735.081 Q72.8658 735.509 72.8207 735.78 Q72.7531 736.05 72.5728 736.614 Q72.3699 737.155 72.167 737.538 Q71.9641 737.899 71.6034 738.373 Q71.2427 738.846 70.8143 739.139 Q70.386 739.432 69.7547 739.635 Q69.1235 739.838 68.3796 739.838 Q67.7032 739.838 66.8916 739.635 Q66.0801 739.41 65.1332 738.846 Q64.1864 738.26 63.4199 737.426 Q62.6534 736.592 62.1574 735.194 Q61.6389 733.774 61.6389 732.038 Q61.6389 729.513 62.8112 728.025 Q63.9609 726.537 65.6066 726.537 Z\" fill=\"#000000\" fill-rule=\"evenodd\" fill-opacity=\"1\" /><path clip-path=\"url(#clip950)\" d=\"M62.6534 709.553 Q63.2846 709.553 63.4424 709.846 Q63.5777 710.139 63.5777 710.951 L63.5777 715.279 L77.1943 718.706 Q78.3891 718.976 79.4036 718.976 Q80.5308 718.976 81.0268 718.638 Q81.5228 718.277 81.5228 717.533 Q81.5228 716.068 80.1927 714.49 Q78.8626 712.889 75.6162 711.537 Q75.1879 711.356 75.0977 711.266 Q74.985 711.154 74.985 710.86 Q74.985 710.297 75.4359 710.297 Q75.5937 710.297 76.3151 710.612 Q77.0365 710.906 78.0961 711.559 Q79.1556 712.191 80.1476 713.025 Q81.1395 713.836 81.8609 715.076 Q82.5598 716.316 82.5598 717.646 Q82.5598 719.517 81.365 720.712 Q80.1701 721.885 78.299 721.885 Q77.6903 721.885 75.7515 721.411 Q73.7901 720.938 63.5777 718.368 L63.5777 722.448 Q63.5777 723.012 63.5551 723.237 Q63.5326 723.44 63.4199 723.598 Q63.2846 723.733 63.0141 723.733 Q62.5857 723.733 62.4054 723.553 Q62.2025 723.372 62.1799 723.147 Q62.1348 722.899 62.1348 722.335 L62.1348 718.007 L54.808 716.203 Q54.0866 716.023 53.6808 715.572 Q53.2525 715.099 53.2074 714.828 Q53.1397 714.558 53.1397 714.355 Q53.1397 713.746 53.4779 713.385 Q53.7935 713.025 54.3797 713.025 Q54.6953 713.025 62.1348 714.918 L62.1348 710.86 Q62.1348 710.342 62.1574 710.139 Q62.1799 709.914 62.2926 709.733 Q62.4054 709.553 62.6534 709.553 Z\" fill=\"#000000\" fill-rule=\"evenodd\" fill-opacity=\"1\" /><path clip-path=\"url(#clip950)\" d=\"M973.023 13.1546 Q973.023 13.9334 972.695 14.3023 Q972.367 14.6302 971.998 14.7122 Q971.629 14.7532 970.769 14.7532 Q969.006 14.7532 968.063 14.8762 Q967.121 14.9991 966.547 15.532 Q965.973 16.0239 965.768 16.5157 Q965.604 17.0076 965.317 18.2783 L955.48 57.464 Q953.963 63.4894 948.47 67.4244 Q942.978 71.3184 936.952 71.3184 Q932.034 71.3184 928.919 68.7361 Q925.844 66.1128 925.844 62.1778 Q925.844 60.1693 926.5 58.7347 Q927.156 57.3001 928.14 56.6442 Q929.123 55.9884 929.943 55.7425 Q930.804 55.4555 931.501 55.4555 Q932.853 55.4555 934.001 56.3163 Q935.19 57.1771 935.19 58.9806 Q935.19 60.9891 933.632 62.6697 Q932.075 64.3502 929.738 64.3502 Q928.96 64.3502 928.714 64.2682 Q929.328 66.2767 930.927 67.5474 Q932.526 68.7771 933.919 69.146 Q935.354 69.4739 936.706 69.4739 Q940.232 69.4739 943.798 66.0718 Q947.364 62.6697 948.798 56.8902 L958.431 18.3602 Q958.759 17.0486 958.759 16.5977 Q958.759 15.7369 958.226 15.45 Q957.734 15.1221 956.176 14.9171 Q954.086 14.7532 951.299 14.7532 Q950.315 14.7532 949.905 14.7532 Q949.495 14.7122 949.085 14.6302 Q948.675 14.5482 948.552 14.3843 Q948.429 14.1793 948.429 13.8104 Q948.429 13.0316 948.757 12.6627 Q949.085 12.2528 949.372 12.2119 Q949.659 12.1299 950.192 12.1299 L962.53 12.3758 Q963.595 12.3758 967.203 12.2528 Q970.81 12.1299 971.875 12.1299 Q973.023 12.1299 973.023 13.1546 Z\" fill=\"#000000\" fill-rule=\"evenodd\" fill-opacity=\"1\" /><path clip-path=\"url(#clip950)\" d=\"M1004.16 88.7306 Q1004.39 88.9889 1004.39 89.2471 Q1004.39 89.5053 1003.82 90.2513 Q1003.27 90.9973 1002.1 92.0016 Q1000.92 93.0058 999.399 93.9527 Q997.878 94.8995 995.64 95.5308 Q993.402 96.1907 991.049 96.1907 Q986.659 96.1907 984.077 93.2927 Q981.523 90.3948 981.523 86.2344 Q981.523 82.1887 983.79 78.3153 Q986.056 74.4131 989.729 72.0029 Q993.402 69.564 997.275 69.564 Q1000.35 69.564 1002.27 70.9987 Q1004.19 72.4333 1004.19 74.6139 Q1004.19 76.3068 1003.21 77.3397 Q1002.24 78.3726 1000.92 78.3726 Q1000 78.3726 999.37 77.8562 Q998.739 77.311 998.739 76.3068 Q998.739 75.0156 999.8 74.0114 Q1000.2 73.6097 1000.66 73.4375 Q1001.15 73.2367 1001.44 73.2367 Q1001.72 73.208 1002.38 73.208 Q1001.78 72.089 1000.35 71.4864 Q998.939 70.8552 997.333 70.8552 Q994.951 70.8552 992.684 72.5194 Q990.418 74.1548 989.041 76.7372 Q987.663 79.2621 986.774 82.8487 Q985.884 86.4065 985.884 88.4724 Q985.884 91.313 987.204 93.0919 Q988.524 94.8708 991.164 94.8708 Q991.68 94.8708 992.225 94.8421 Q992.799 94.8134 994.234 94.4978 Q995.697 94.1822 996.988 93.637 Q998.279 93.0919 999.915 91.9155 Q1001.58 90.7104 1002.9 89.0749 Q1003.36 88.4724 1003.67 88.4724 Q1003.93 88.4724 1004.16 88.7306 Z\" fill=\"#000000\" fill-rule=\"evenodd\" fill-opacity=\"1\" /><path clip-path=\"url(#clip950)\" d=\"M1018.8 55.39 L1010.33 89.3619 Q1009.99 90.7104 1009.99 92.1737 Q1009.99 94.8708 1011.77 94.8708 Q1012.6 94.8708 1013.29 94.3257 Q1013.98 93.7518 1014.49 92.6328 Q1015.04 91.4851 1015.38 90.3948 Q1015.76 89.3045 1016.22 87.6116 Q1016.36 86.9517 1016.5 86.7508 Q1016.65 86.55 1017.05 86.55 Q1017.76 86.55 1017.76 87.1238 Q1017.05 90.653 1015.99 92.891 Q1014.44 96.1907 1011.57 96.1907 Q1009.42 96.1907 1007.81 94.6987 Q1006.23 93.178 1006.23 90.7678 Q1006.23 89.8496 1006.52 88.7593 L1013.92 59.3782 L1014.12 58.2305 Q1014.12 57.9149 1014.01 57.7427 Q1013.89 57.5706 1013.2 57.3984 Q1012.54 57.2263 1011.22 57.2263 Q1010.68 57.2263 1010.42 57.1976 Q1010.19 57.1689 1009.96 57.0254 Q1009.76 56.882 1009.76 56.5663 Q1009.76 56.0499 1009.96 55.763 Q1010.19 55.476 1010.36 55.4186 Q1010.53 55.3613 1010.88 55.3326 Q1011.37 55.3039 1013 55.1604 Q1014.64 54.9883 1016.04 54.8735 Q1017.45 54.7587 1018.05 54.7587 Q1018.4 54.7587 1018.57 54.9309 Q1018.77 55.0743 1018.8 55.2465 L1018.8 55.39 Z\" fill=\"#000000\" fill-rule=\"evenodd\" fill-opacity=\"1\" /><path clip-path=\"url(#clip950)\" d=\"M1053.31 87.1238 Q1052.56 90.8252 1051.56 92.9484 Q1049.92 96.1907 1047.2 96.1907 Q1045.3 96.1907 1043.87 95.1291 Q1042.46 94.0387 1041.97 92.2311 Q1041.43 92.9484 1040.94 93.4362 Q1040.48 93.924 1039.59 94.67 Q1038.7 95.3873 1037.5 95.789 Q1036.32 96.1907 1034.97 96.1907 Q1033.94 96.1907 1032.99 95.9898 Q1032.05 95.8177 1031.04 95.3299 Q1030.07 94.8134 1029.35 94.0387 Q1028.66 93.264 1028.2 92.0016 Q1027.74 90.7391 1027.74 89.1323 Q1027.74 87.1238 1028.52 84.3981 Q1029.32 81.6723 1031.16 76.7946 Q1032.16 74.2122 1032.16 72.7776 Q1032.16 72.1177 1032.02 71.6873 Q1031.87 71.2569 1031.59 71.1134 Q1031.33 70.9413 1031.16 70.9126 Q1030.98 70.8552 1030.7 70.8552 Q1028.92 70.8552 1027.37 72.6628 Q1025.82 74.4705 1024.76 78.1431 Q1024.53 78.8604 1024.39 79.0326 Q1024.24 79.2047 1023.81 79.2047 Q1023.09 79.176 1023.09 78.6022 Q1023.09 78.3726 1023.35 77.4832 Q1023.61 76.565 1024.21 75.2165 Q1024.84 73.8392 1025.71 72.6054 Q1026.57 71.343 1027.91 70.4535 Q1029.29 69.564 1030.87 69.564 Q1033.02 69.564 1034.34 70.97 Q1035.69 72.3472 1035.69 74.3844 Q1035.69 75.6469 1034.69 78.0857 Q1031.5 86.55 1031.5 90.0792 Q1031.5 94.8708 1035.15 94.8708 Q1036.35 94.8708 1037.47 94.3831 Q1038.62 93.8953 1039.36 93.2067 Q1040.11 92.518 1040.68 91.772 Q1041.29 91.026 1041.54 90.5383 Q1041.83 90.0505 1041.86 89.9357 L1046.25 72.2611 Q1046.42 71.5725 1046.74 71.1134 Q1047.08 70.6257 1047.48 70.4535 Q1047.88 70.2814 1048.11 70.2527 Q1048.34 70.1953 1048.54 70.1953 Q1049.26 70.1953 1049.75 70.6257 Q1050.27 71.0561 1050.27 71.8021 Q1050.27 71.9455 1050.09 72.6341 Q1049.95 73.2941 1049.72 74.2696 Q1049.49 75.2165 1049.38 75.7329 Q1048.46 79.3482 1048.37 79.7212 L1046.74 86.0622 Q1046.65 86.4352 1046.36 87.6403 Q1046.11 88.8454 1045.96 89.4766 Q1045.82 90.0792 1045.68 90.9113 Q1045.56 91.7146 1045.56 92.1737 Q1045.56 93.6084 1045.99 94.2396 Q1046.42 94.8708 1047.37 94.8708 Q1048.26 94.8708 1048.95 94.2683 Q1049.66 93.637 1050.21 92.432 Q1050.75 91.1982 1051.07 90.1939 Q1051.39 89.1897 1051.79 87.6116 Q1051.93 86.923 1052.05 86.7508 Q1052.19 86.55 1052.59 86.55 Q1053.31 86.55 1053.31 87.1238 Z\" fill=\"#000000\" fill-rule=\"evenodd\" fill-opacity=\"1\" /><path clip-path=\"url(#clip950)\" d=\"M1078.48 74.6139 Q1078.48 76.2207 1077.67 77.0815 Q1076.87 77.9136 1075.78 77.9136 Q1074.89 77.9136 1074.4 77.3971 Q1073.94 76.8806 1073.94 76.192 Q1073.94 75.1878 1074.75 74.3844 Q1075.58 73.581 1076.78 73.5523 Q1076.38 72.4907 1075.32 71.8594 Q1074.26 71.1995 1073.31 71.0274 Q1072.39 70.8552 1071.47 70.8552 Q1069.67 70.8552 1068.29 71.4291 Q1066.91 72.0029 1066.22 72.8924 Q1065.54 73.7531 1065.22 74.5852 Q1064.9 75.4173 1064.9 76.1346 Q1064.9 76.7659 1065.05 77.2823 Q1065.22 77.7701 1065.62 78.1431 Q1066.02 78.4874 1066.31 78.7169 Q1066.63 78.9465 1067.31 79.1473 Q1068 79.3482 1068.29 79.4343 Q1068.58 79.4916 1069.38 79.6638 Q1071.04 80.0081 1071.79 80.209 Q1072.54 80.3811 1073.51 80.8689 Q1074.52 81.3567 1075.26 82.1314 Q1077.07 83.939 1077.07 86.4352 Q1077.07 87.3534 1076.75 88.4724 Q1076.47 89.5914 1075.63 90.9973 Q1074.8 92.4033 1073.54 93.5223 Q1072.28 94.6413 1070.1 95.416 Q1067.95 96.1907 1065.25 96.1907 Q1061.49 96.1907 1059.17 94.6126 Q1056.84 93.0058 1056.84 90.4809 Q1056.84 88.6446 1057.85 87.6403 Q1058.85 86.6074 1060.14 86.6074 Q1061.12 86.6074 1061.72 87.1525 Q1062.32 87.669 1062.32 88.6446 Q1062.32 89.9644 1061.26 90.9686 Q1060.2 91.9729 1058.62 91.772 Q1059.97 94.8708 1065.31 94.8708 Q1067.31 94.8708 1068.86 94.3544 Q1070.44 93.8092 1071.3 93.0632 Q1072.19 92.2885 1072.77 91.3416 Q1073.34 90.3948 1073.51 89.6775 Q1073.71 88.9602 1073.71 88.415 Q1073.71 87.4682 1073.34 86.7508 Q1072.97 86.0335 1072.45 85.6318 Q1071.96 85.2015 1071.02 84.8571 Q1070.1 84.4841 1069.44 84.3407 Q1068.78 84.1972 1067.6 83.9677 Q1067.06 83.8529 1066.71 83.7955 Q1066.37 83.7094 1065.65 83.4799 Q1064.96 83.2217 1064.47 82.9634 Q1064.01 82.7052 1063.41 82.2461 Q1062.81 81.787 1062.44 81.2419 Q1062.06 80.6967 1061.81 79.8933 Q1061.55 79.09 1061.55 78.1431 Q1061.55 77.2823 1061.81 76.2494 Q1062.09 75.2165 1062.81 74.0114 Q1063.56 72.8063 1064.62 71.8307 Q1065.68 70.8552 1067.46 70.224 Q1069.27 69.564 1071.47 69.564 Q1074.69 69.564 1076.58 71.0561 Q1078.48 72.5194 1078.48 74.6139 Z\" fill=\"#000000\" fill-rule=\"evenodd\" fill-opacity=\"1\" /><path clip-path=\"url(#clip950)\" d=\"M1100.15 70.8552 Q1100.15 71.6586 1099.77 71.8594 Q1099.4 72.0316 1098.37 72.0316 L1092.86 72.0316 L1088.5 89.3619 Q1088.15 90.8826 1088.15 92.1737 Q1088.15 93.6084 1088.58 94.2396 Q1089.04 94.8708 1089.99 94.8708 Q1091.85 94.8708 1093.86 93.178 Q1095.9 91.4851 1097.62 87.3534 Q1097.85 86.8082 1097.97 86.6935 Q1098.11 86.55 1098.48 86.55 Q1099.2 86.55 1099.2 87.1238 Q1099.2 87.3247 1098.8 88.2429 Q1098.42 89.161 1097.59 90.5096 Q1096.79 91.8581 1095.73 93.1206 Q1094.69 94.3831 1093.12 95.3012 Q1091.54 96.1907 1089.85 96.1907 Q1087.46 96.1907 1085.94 94.67 Q1084.45 93.1493 1084.45 90.7678 Q1084.45 89.9931 1085.05 87.5255 Q1085.66 85.0293 1088.93 72.0316 L1083.73 72.0316 Q1083.02 72.0316 1082.73 72.0029 Q1082.47 71.9742 1082.27 71.8307 Q1082.1 71.6586 1082.1 71.3143 Q1082.1 70.7691 1082.33 70.5396 Q1082.56 70.2814 1082.84 70.2527 Q1083.16 70.1953 1083.88 70.1953 L1089.39 70.1953 L1091.68 60.8702 Q1091.91 59.9521 1092.48 59.4356 Q1093.09 58.8904 1093.43 58.833 Q1093.78 58.747 1094.03 58.747 Q1094.81 58.747 1095.27 59.1774 Q1095.73 59.5791 1095.73 60.3251 Q1095.73 60.7268 1093.32 70.1953 L1098.48 70.1953 Q1099.14 70.1953 1099.4 70.224 Q1099.69 70.2527 1099.92 70.3961 Q1100.15 70.5396 1100.15 70.8552 Z\" fill=\"#000000\" fill-rule=\"evenodd\" fill-opacity=\"1\" /><path clip-path=\"url(#clip950)\" d=\"M1140.9 24.1037 L1148.8 24.1037 L1162.98 62.1822 L1177.16 24.1037 L1185.06 24.1037 L1168.04 69.4739 L1157.91 69.4739 L1140.9 24.1037 Z\" fill=\"#000000\" fill-rule=\"evenodd\" fill-opacity=\"1\" /><path clip-path=\"url(#clip950)\" d=\"M1224.27 25.4405 L1224.27 32.4891 Q1221.11 30.8688 1217.71 30.0586 Q1214.3 29.2484 1210.66 29.2484 Q1205.11 29.2484 1202.31 30.9498 Q1199.56 32.6512 1199.56 36.0539 Q1199.56 38.6465 1201.54 40.1453 Q1203.53 41.6037 1209.52 42.9405 L1212.08 43.5076 Q1220.02 45.209 1223.34 48.3282 Q1226.7 51.4068 1226.7 56.9566 Q1226.7 63.276 1221.68 66.9623 Q1216.69 70.6486 1207.94 70.6486 Q1204.3 70.6486 1200.33 69.9195 Q1196.4 69.2308 1192.02 67.813 L1192.02 60.1163 Q1196.16 62.2633 1200.17 63.357 Q1204.18 64.4102 1208.11 64.4102 Q1213.37 64.4102 1216.21 62.6278 Q1219.04 60.8049 1219.04 57.5237 Q1219.04 54.4855 1216.98 52.8652 Q1214.95 51.2448 1208.02 49.746 L1205.43 49.1383 Q1198.5 47.68 1195.43 44.6823 Q1192.35 41.6442 1192.35 36.378 Q1192.35 29.9776 1196.88 26.4938 Q1201.42 23.01 1209.77 23.01 Q1213.9 23.01 1217.54 23.6176 Q1221.19 24.2253 1224.27 25.4405 Z\" fill=\"#000000\" fill-rule=\"evenodd\" fill-opacity=\"1\" /><path clip-path=\"url(#clip950)\" d=\"M1264.94 24.1037 L1272.39 24.1037 L1272.39 69.4739 L1264.94 69.4739 L1264.94 24.1037 M1264.94 6.44181 L1272.39 6.44181 L1272.39 15.8804 L1264.94 15.8804 L1264.94 6.44181 Z\" fill=\"#000000\" fill-rule=\"evenodd\" fill-opacity=\"1\" /><path clip-path=\"url(#clip950)\" d=\"M1295.36 11.2219 L1295.36 24.1037 L1310.71 24.1037 L1310.71 29.8965 L1295.36 29.8965 L1295.36 54.526 Q1295.36 60.0758 1296.86 61.6556 Q1298.4 63.2355 1303.06 63.2355 L1310.71 63.2355 L1310.71 69.4739 L1303.06 69.4739 Q1294.43 69.4739 1291.15 66.2737 Q1287.87 63.0329 1287.87 54.526 L1287.87 29.8965 L1282.4 29.8965 L1282.4 24.1037 L1287.87 24.1037 L1287.87 11.2219 L1295.36 11.2219 Z\" fill=\"#000000\" fill-rule=\"evenodd\" fill-opacity=\"1\" /><path clip-path=\"url(#clip950)\" d=\"M1359.33 44.9254 L1359.33 48.5712 L1325.06 48.5712 Q1325.54 56.2679 1329.67 60.3188 Q1333.85 64.3292 1341.26 64.3292 Q1345.55 64.3292 1349.56 63.276 Q1353.61 62.2228 1357.58 60.1163 L1357.58 67.1649 Q1353.57 68.8662 1349.36 69.7574 Q1345.15 70.6486 1340.81 70.6486 Q1329.96 70.6486 1323.6 64.3292 Q1317.28 58.0098 1317.28 47.2344 Q1317.28 36.0944 1323.27 29.5725 Q1329.31 23.01 1339.52 23.01 Q1348.67 23.01 1353.98 28.9243 Q1359.33 34.7981 1359.33 44.9254 M1351.87 42.7379 Q1351.79 36.621 1348.43 32.9752 Q1345.11 29.3294 1339.6 29.3294 Q1333.36 29.3294 1329.59 32.8537 Q1325.87 36.378 1325.3 42.7784 L1351.87 42.7379 Z\" fill=\"#000000\" fill-rule=\"evenodd\" fill-opacity=\"1\" /><path clip-path=\"url(#clip950)\" d=\"M1397.85 31.0713 Q1396.59 30.3421 1395.1 30.0181 Q1393.64 29.6535 1391.85 29.6535 Q1385.54 29.6535 1382.13 33.7854 Q1378.77 37.8768 1378.77 45.5735 L1378.77 69.4739 L1371.28 69.4739 L1371.28 24.1037 L1378.77 24.1037 L1378.77 31.1523 Q1381.12 27.0204 1384.89 25.0355 Q1388.65 23.01 1394.04 23.01 Q1394.81 23.01 1395.74 23.1315 Q1396.68 23.2125 1397.81 23.4151 L1397.85 31.0713 Z\" fill=\"#000000\" fill-rule=\"evenodd\" fill-opacity=\"1\" /><path clip-path=\"url(#clip950)\" d=\"M1426.29 46.6673 Q1417.25 46.6673 1413.77 48.7332 Q1410.29 50.7992 1410.29 55.7818 Q1410.29 59.7517 1412.88 62.1012 Q1415.51 64.4102 1420.01 64.4102 Q1426.21 64.4102 1429.93 60.0353 Q1433.7 55.6198 1433.7 48.3282 L1433.7 46.6673 L1426.29 46.6673 M1441.15 43.5886 L1441.15 69.4739 L1433.7 69.4739 L1433.7 62.5873 Q1431.15 66.7193 1427.34 68.7042 Q1423.53 70.6486 1418.02 70.6486 Q1411.06 70.6486 1406.92 66.7598 Q1402.83 62.8304 1402.83 56.2679 Q1402.83 48.6117 1407.94 44.7229 Q1413.08 40.834 1423.25 40.834 L1433.7 40.834 L1433.7 40.1048 Q1433.7 34.9602 1430.3 32.165 Q1426.94 29.3294 1420.82 29.3294 Q1416.93 29.3294 1413.24 30.2611 Q1409.56 31.1928 1406.15 33.0562 L1406.15 26.1697 Q1410.25 24.5899 1414.09 23.8202 Q1417.94 23.01 1421.59 23.01 Q1431.43 23.01 1436.29 28.1141 Q1441.15 33.2183 1441.15 43.5886 Z\" fill=\"#000000\" fill-rule=\"evenodd\" fill-opacity=\"1\" /><path clip-path=\"url(#clip950)\" d=\"M1463.88 11.2219 L1463.88 24.1037 L1479.23 24.1037 L1479.23 29.8965 L1463.88 29.8965 L1463.88 54.526 Q1463.88 60.0758 1465.38 61.6556 Q1466.92 63.2355 1471.58 63.2355 L1479.23 63.2355 L1479.23 69.4739 L1471.58 69.4739 Q1462.95 69.4739 1459.67 66.2737 Q1456.39 63.0329 1456.39 54.526 L1456.39 29.8965 L1450.92 29.8965 L1450.92 24.1037 L1456.39 24.1037 L1456.39 11.2219 L1463.88 11.2219 Z\" fill=\"#000000\" fill-rule=\"evenodd\" fill-opacity=\"1\" /><path clip-path=\"url(#clip950)\" d=\"M1489.04 24.1037 L1496.49 24.1037 L1496.49 69.4739 L1489.04 69.4739 L1489.04 24.1037 M1489.04 6.44181 L1496.49 6.44181 L1496.49 15.8804 L1489.04 15.8804 L1489.04 6.44181 Z\" fill=\"#000000\" fill-rule=\"evenodd\" fill-opacity=\"1\" /><path clip-path=\"url(#clip950)\" d=\"M1529.67 29.3294 Q1523.67 29.3294 1520.19 34.0285 Q1516.7 38.687 1516.7 46.8293 Q1516.7 54.9716 1520.15 59.6707 Q1523.63 64.3292 1529.67 64.3292 Q1535.62 64.3292 1539.1 59.6302 Q1542.59 54.9311 1542.59 46.8293 Q1542.59 38.768 1539.1 34.069 Q1535.62 29.3294 1529.67 29.3294 M1529.67 23.01 Q1539.39 23.01 1544.94 29.3294 Q1550.49 35.6488 1550.49 46.8293 Q1550.49 57.9693 1544.94 64.3292 Q1539.39 70.6486 1529.67 70.6486 Q1519.9 70.6486 1514.35 64.3292 Q1508.84 57.9693 1508.84 46.8293 Q1508.84 35.6488 1514.35 29.3294 Q1519.9 23.01 1529.67 23.01 Z\" fill=\"#000000\" fill-rule=\"evenodd\" fill-opacity=\"1\" /><path clip-path=\"url(#clip950)\" d=\"M1600.56 42.0898 L1600.56 69.4739 L1593.1 69.4739 L1593.1 42.3328 Q1593.1 35.8919 1590.59 32.6917 Q1588.08 29.4915 1583.06 29.4915 Q1577.02 29.4915 1573.54 33.3398 Q1570.05 37.1882 1570.05 43.8317 L1570.05 69.4739 L1562.56 69.4739 L1562.56 24.1037 L1570.05 24.1037 L1570.05 31.1523 Q1572.73 27.0609 1576.33 25.0355 Q1579.98 23.01 1584.72 23.01 Q1592.54 23.01 1596.55 27.8711 Q1600.56 32.6917 1600.56 42.0898 Z\" fill=\"#000000\" fill-rule=\"evenodd\" fill-opacity=\"1\" /><path clip-path=\"url(#clip950)\" d=\"M1644.35 25.4405 L1644.35 32.4891 Q1641.19 30.8688 1637.78 30.0586 Q1634.38 29.2484 1630.74 29.2484 Q1625.19 29.2484 1622.39 30.9498 Q1619.64 32.6512 1619.64 36.0539 Q1619.64 38.6465 1621.62 40.1453 Q1623.61 41.6037 1629.6 42.9405 L1632.15 43.5076 Q1640.09 45.209 1643.42 48.3282 Q1646.78 51.4068 1646.78 56.9566 Q1646.78 63.276 1641.75 66.9623 Q1636.77 70.6486 1628.02 70.6486 Q1624.38 70.6486 1620.41 69.9195 Q1616.48 69.2308 1612.1 67.813 L1612.1 60.1163 Q1616.23 62.2633 1620.24 63.357 Q1624.25 64.4102 1628.18 64.4102 Q1633.45 64.4102 1636.29 62.6278 Q1639.12 60.8049 1639.12 57.5237 Q1639.12 54.4855 1637.06 52.8652 Q1635.03 51.2448 1628.1 49.746 L1625.51 49.1383 Q1618.58 47.68 1615.5 44.6823 Q1612.43 41.6442 1612.43 36.378 Q1612.43 29.9776 1616.96 26.4938 Q1621.5 23.01 1629.85 23.01 Q1633.98 23.01 1637.62 23.6176 Q1641.27 24.2253 1644.35 25.4405 Z\" fill=\"#000000\" fill-rule=\"evenodd\" fill-opacity=\"1\" /><polyline clip-path=\"url(#clip952)\" style=\"stroke:#009af9; stroke-linecap:round; stroke-linejoin:round; stroke-width:4; stroke-opacity:1; fill:none\" points=\"\n  280.231,160.256 386.134,1357.41 492.037,1376.51 597.941,1377.37 703.844,1375.74 809.747,1374.65 915.65,1375.68 1021.55,1380.06 1127.46,1384.98 1233.36,1386.4 \n  1339.26,1386.02 1445.17,1383.45 1551.07,1382.68 1656.97,1382.06 1762.88,1381.49 1868.78,1380.81 1974.68,1380.26 2080.58,1379.9 2186.49,1379.14 2292.39,1379.14 \n  \n  \"/>\n<path clip-path=\"url(#clip950)\" d=\"\nM1961.98 270.476 L2281.66 270.476 L2281.66 166.796 L1961.98 166.796  Z\n  \" fill=\"#ffffff\" fill-rule=\"evenodd\" fill-opacity=\"1\"/>\n<polyline clip-path=\"url(#clip950)\" style=\"stroke:#000000; stroke-linecap:round; stroke-linejoin:round; stroke-width:4; stroke-opacity:1; fill:none\" points=\"\n  1961.98,270.476 2281.66,270.476 2281.66,166.796 1961.98,166.796 1961.98,270.476 \n  \"/>\n<polyline clip-path=\"url(#clip950)\" style=\"stroke:#009af9; stroke-linecap:round; stroke-linejoin:round; stroke-width:4; stroke-opacity:1; fill:none\" points=\"\n  1985.68,218.636 2127.88,218.636 \n  \"/>\n<path clip-path=\"url(#clip950)\" d=\"M2178.53 195.05 Q2178.53 195.495 2178.35 195.706 Q2178.16 195.894 2177.95 195.94 Q2177.74 195.964 2177.25 195.964 Q2176.24 195.964 2175.7 196.034 Q2175.16 196.104 2174.83 196.409 Q2174.51 196.69 2174.39 196.971 Q2174.29 197.252 2174.13 197.978 L2168.51 220.37 Q2167.64 223.813 2164.5 226.062 Q2161.37 228.287 2157.92 228.287 Q2155.11 228.287 2153.33 226.811 Q2151.57 225.312 2151.57 223.064 Q2151.57 221.916 2151.95 221.096 Q2152.32 220.276 2152.89 219.902 Q2153.45 219.527 2153.92 219.386 Q2154.41 219.222 2154.81 219.222 Q2155.58 219.222 2156.24 219.714 Q2156.92 220.206 2156.92 221.237 Q2156.92 222.384 2156.03 223.345 Q2155.14 224.305 2153.8 224.305 Q2153.36 224.305 2153.21 224.258 Q2153.57 225.406 2154.48 226.132 Q2155.39 226.835 2156.19 227.045 Q2157.01 227.233 2157.78 227.233 Q2159.8 227.233 2161.83 225.289 Q2163.87 223.345 2164.69 220.042 L2170.2 198.025 Q2170.38 197.275 2170.38 197.018 Q2170.38 196.526 2170.08 196.362 Q2169.8 196.175 2168.91 196.057 Q2167.71 195.964 2166.12 195.964 Q2165.56 195.964 2165.32 195.964 Q2165.09 195.94 2164.86 195.894 Q2164.62 195.847 2164.55 195.753 Q2164.48 195.636 2164.48 195.425 Q2164.48 194.98 2164.67 194.769 Q2164.86 194.535 2165.02 194.512 Q2165.18 194.465 2165.49 194.465 L2172.54 194.605 Q2173.15 194.605 2175.21 194.535 Q2177.27 194.465 2177.88 194.465 Q2178.53 194.465 2178.53 195.05 Z\" fill=\"#000000\" fill-rule=\"evenodd\" fill-opacity=\"1\" /><path clip-path=\"url(#clip950)\" d=\"M2196.32 238.234 Q2196.45 238.382 2196.45 238.529 Q2196.45 238.677 2196.12 239.103 Q2195.81 239.529 2195.14 240.103 Q2194.47 240.677 2193.6 241.218 Q2192.73 241.759 2191.45 242.12 Q2190.17 242.497 2188.83 242.497 Q2186.32 242.497 2184.84 240.841 Q2183.38 239.185 2183.38 236.808 Q2183.38 234.496 2184.68 232.283 Q2185.97 230.053 2188.07 228.675 Q2190.17 227.282 2192.38 227.282 Q2194.14 227.282 2195.24 228.102 Q2196.34 228.921 2196.34 230.167 Q2196.34 231.135 2195.78 231.725 Q2195.22 232.315 2194.47 232.315 Q2193.94 232.315 2193.58 232.02 Q2193.22 231.709 2193.22 231.135 Q2193.22 230.397 2193.83 229.823 Q2194.06 229.594 2194.32 229.495 Q2194.6 229.38 2194.76 229.38 Q2194.93 229.364 2195.3 229.364 Q2194.96 228.725 2194.14 228.38 Q2193.33 228.02 2192.42 228.02 Q2191.06 228.02 2189.76 228.971 Q2188.47 229.905 2187.68 231.381 Q2186.89 232.824 2186.38 234.873 Q2185.87 236.906 2185.87 238.087 Q2185.87 239.71 2186.63 240.726 Q2187.38 241.743 2188.89 241.743 Q2189.19 241.743 2189.5 241.726 Q2189.83 241.71 2190.65 241.53 Q2191.48 241.349 2192.22 241.038 Q2192.96 240.726 2193.89 240.054 Q2194.84 239.365 2195.6 238.431 Q2195.86 238.087 2196.04 238.087 Q2196.19 238.087 2196.32 238.234 Z\" fill=\"#000000\" fill-rule=\"evenodd\" fill-opacity=\"1\" /><path clip-path=\"url(#clip950)\" d=\"M2204.68 219.182 L2199.84 238.595 Q2199.65 239.365 2199.65 240.202 Q2199.65 241.743 2200.66 241.743 Q2201.14 241.743 2201.53 241.431 Q2201.93 241.103 2202.22 240.464 Q2202.53 239.808 2202.73 239.185 Q2202.94 238.562 2203.2 237.595 Q2203.29 237.218 2203.37 237.103 Q2203.45 236.988 2203.68 236.988 Q2204.09 236.988 2204.09 237.316 Q2203.68 239.333 2203.07 240.612 Q2202.19 242.497 2200.55 242.497 Q2199.32 242.497 2198.4 241.644 Q2197.5 240.775 2197.5 239.398 Q2197.5 238.874 2197.66 238.251 L2201.89 221.461 L2202.01 220.806 Q2202.01 220.625 2201.94 220.527 Q2201.88 220.428 2201.48 220.33 Q2201.11 220.232 2200.35 220.232 Q2200.04 220.232 2199.89 220.215 Q2199.76 220.199 2199.63 220.117 Q2199.51 220.035 2199.51 219.855 Q2199.51 219.559 2199.63 219.395 Q2199.76 219.232 2199.86 219.199 Q2199.96 219.166 2200.15 219.15 Q2200.43 219.133 2201.37 219.051 Q2202.3 218.953 2203.11 218.887 Q2203.91 218.822 2204.25 218.822 Q2204.45 218.822 2204.55 218.92 Q2204.66 219.002 2204.68 219.1 L2204.68 219.182 Z\" fill=\"#000000\" fill-rule=\"evenodd\" fill-opacity=\"1\" /><path clip-path=\"url(#clip950)\" d=\"M2224.4 237.316 Q2223.97 239.431 2223.4 240.644 Q2222.46 242.497 2220.91 242.497 Q2219.82 242.497 2219 241.89 Q2218.2 241.267 2217.92 240.234 Q2217.61 240.644 2217.33 240.923 Q2217.07 241.202 2216.56 241.628 Q2216.05 242.038 2215.36 242.267 Q2214.69 242.497 2213.92 242.497 Q2213.33 242.497 2212.79 242.382 Q2212.25 242.284 2211.67 242.005 Q2211.12 241.71 2210.71 241.267 Q2210.31 240.825 2210.05 240.103 Q2209.79 239.382 2209.79 238.464 Q2209.79 237.316 2210.23 235.758 Q2210.69 234.201 2211.74 231.414 Q2212.31 229.938 2212.31 229.118 Q2212.31 228.741 2212.23 228.495 Q2212.15 228.249 2211.99 228.167 Q2211.84 228.069 2211.74 228.052 Q2211.64 228.02 2211.48 228.02 Q2210.46 228.02 2209.58 229.053 Q2208.69 230.085 2208.08 232.184 Q2207.95 232.594 2207.87 232.692 Q2207.79 232.791 2207.54 232.791 Q2207.13 232.774 2207.13 232.446 Q2207.13 232.315 2207.28 231.807 Q2207.43 231.282 2207.77 230.512 Q2208.13 229.725 2208.62 229.02 Q2209.12 228.298 2209.89 227.79 Q2210.67 227.282 2211.58 227.282 Q2212.81 227.282 2213.56 228.085 Q2214.33 228.872 2214.33 230.036 Q2214.33 230.758 2213.76 232.151 Q2211.94 236.988 2211.94 239.005 Q2211.94 241.743 2214.02 241.743 Q2214.71 241.743 2215.35 241.464 Q2216 241.185 2216.43 240.792 Q2216.86 240.398 2217.18 239.972 Q2217.53 239.546 2217.68 239.267 Q2217.84 238.988 2217.86 238.923 L2220.36 228.823 Q2220.46 228.43 2220.64 228.167 Q2220.84 227.888 2221.07 227.79 Q2221.3 227.692 2221.43 227.675 Q2221.56 227.643 2221.68 227.643 Q2222.09 227.643 2222.36 227.888 Q2222.66 228.134 2222.66 228.561 Q2222.66 228.643 2222.56 229.036 Q2222.48 229.413 2222.35 229.971 Q2222.22 230.512 2222.15 230.807 Q2221.63 232.873 2221.58 233.086 L2220.64 236.709 Q2220.59 236.922 2220.43 237.611 Q2220.28 238.3 2220.2 238.66 Q2220.12 239.005 2220.04 239.48 Q2219.97 239.939 2219.97 240.202 Q2219.97 241.021 2220.22 241.382 Q2220.46 241.743 2221 241.743 Q2221.51 241.743 2221.91 241.399 Q2222.32 241.038 2222.63 240.349 Q2222.94 239.644 2223.12 239.07 Q2223.3 238.496 2223.53 237.595 Q2223.61 237.201 2223.68 237.103 Q2223.76 236.988 2223.99 236.988 Q2224.4 236.988 2224.4 237.316 Z\" fill=\"#000000\" fill-rule=\"evenodd\" fill-opacity=\"1\" /><path clip-path=\"url(#clip950)\" d=\"M2238.78 230.167 Q2238.78 231.086 2238.32 231.577 Q2237.86 232.053 2237.23 232.053 Q2236.73 232.053 2236.45 231.758 Q2236.19 231.463 2236.19 231.069 Q2236.19 230.495 2236.64 230.036 Q2237.12 229.577 2237.81 229.561 Q2237.58 228.954 2236.97 228.593 Q2236.37 228.216 2235.82 228.118 Q2235.3 228.02 2234.78 228.02 Q2233.74 228.02 2232.96 228.348 Q2232.17 228.675 2231.77 229.184 Q2231.38 229.676 2231.2 230.151 Q2231.02 230.627 2231.02 231.036 Q2231.02 231.397 2231.1 231.692 Q2231.2 231.971 2231.43 232.184 Q2231.66 232.381 2231.82 232.512 Q2232 232.643 2232.4 232.758 Q2232.79 232.873 2232.96 232.922 Q2233.12 232.955 2233.58 233.053 Q2234.53 233.25 2234.96 233.365 Q2235.38 233.463 2235.94 233.742 Q2236.51 234.02 2236.94 234.463 Q2237.97 235.496 2237.97 236.922 Q2237.97 237.447 2237.79 238.087 Q2237.63 238.726 2237.15 239.529 Q2236.68 240.333 2235.96 240.972 Q2235.23 241.612 2233.99 242.054 Q2232.76 242.497 2231.22 242.497 Q2229.07 242.497 2227.74 241.595 Q2226.41 240.677 2226.41 239.234 Q2226.41 238.185 2226.99 237.611 Q2227.56 237.021 2228.3 237.021 Q2228.86 237.021 2229.2 237.332 Q2229.54 237.628 2229.54 238.185 Q2229.54 238.939 2228.94 239.513 Q2228.33 240.087 2227.43 239.972 Q2228.2 241.743 2231.25 241.743 Q2232.4 241.743 2233.28 241.448 Q2234.18 241.136 2234.68 240.71 Q2235.19 240.267 2235.51 239.726 Q2235.84 239.185 2235.94 238.775 Q2236.05 238.365 2236.05 238.054 Q2236.05 237.513 2235.84 237.103 Q2235.63 236.693 2235.33 236.463 Q2235.05 236.217 2234.51 236.021 Q2233.99 235.808 2233.61 235.726 Q2233.23 235.644 2232.56 235.512 Q2232.25 235.447 2232.05 235.414 Q2231.86 235.365 2231.45 235.234 Q2231.05 235.086 2230.77 234.939 Q2230.51 234.791 2230.17 234.529 Q2229.82 234.266 2229.61 233.955 Q2229.4 233.643 2229.25 233.184 Q2229.1 232.725 2229.1 232.184 Q2229.1 231.692 2229.25 231.102 Q2229.41 230.512 2229.82 229.823 Q2230.25 229.135 2230.86 228.577 Q2231.46 228.02 2232.48 227.659 Q2233.51 227.282 2234.78 227.282 Q2236.61 227.282 2237.69 228.134 Q2238.78 228.971 2238.78 230.167 Z\" fill=\"#000000\" fill-rule=\"evenodd\" fill-opacity=\"1\" /><path clip-path=\"url(#clip950)\" d=\"M2251.16 228.02 Q2251.16 228.479 2250.94 228.593 Q2250.73 228.692 2250.14 228.692 L2246.99 228.692 L2244.5 238.595 Q2244.3 239.464 2244.3 240.202 Q2244.3 241.021 2244.55 241.382 Q2244.81 241.743 2245.35 241.743 Q2246.42 241.743 2247.57 240.775 Q2248.73 239.808 2249.71 237.447 Q2249.84 237.136 2249.91 237.07 Q2249.99 236.988 2250.2 236.988 Q2250.61 236.988 2250.61 237.316 Q2250.61 237.431 2250.39 237.955 Q2250.17 238.48 2249.7 239.251 Q2249.24 240.021 2248.63 240.743 Q2248.04 241.464 2247.14 241.989 Q2246.24 242.497 2245.27 242.497 Q2243.91 242.497 2243.04 241.628 Q2242.19 240.759 2242.19 239.398 Q2242.19 238.956 2242.53 237.546 Q2242.88 236.119 2244.75 228.692 L2241.78 228.692 Q2241.37 228.692 2241.2 228.675 Q2241.06 228.659 2240.94 228.577 Q2240.84 228.479 2240.84 228.282 Q2240.84 227.97 2240.97 227.839 Q2241.11 227.692 2241.27 227.675 Q2241.45 227.643 2241.86 227.643 L2245.01 227.643 L2246.32 222.314 Q2246.45 221.789 2246.78 221.494 Q2247.12 221.183 2247.32 221.15 Q2247.52 221.101 2247.66 221.101 Q2248.11 221.101 2248.37 221.347 Q2248.63 221.576 2248.63 222.002 Q2248.63 222.232 2247.25 227.643 L2250.2 227.643 Q2250.58 227.643 2250.73 227.659 Q2250.89 227.675 2251.02 227.757 Q2251.16 227.839 2251.16 228.02 Z\" fill=\"#000000\" fill-rule=\"evenodd\" fill-opacity=\"1\" /></svg>\n"
     },
     "execution_count": 605,
     "metadata": {},
     "output_type": "execute_result"
    }
   ],
   "source": [
    "using Plots\n",
    "using LaTeXStrings\n",
    " x = [0:iter]\n",
    " y = [J[i] for i in 1:iter+1]\n",
    " plot(x,y,title = L\"$J_{clust}$ vs iterations\",label = L\"J_{clust}\")\n",
    " xlabel!(\"Iteration No.\")\n",
    " ylabel!(L\"J_{clust}\")\n"
   ]
  }
 ],
 "metadata": {
  "kernelspec": {
   "display_name": "Julia 1.8.3",
   "language": "julia",
   "name": "julia-1.8"
  },
  "language_info": {
   "file_extension": ".jl",
   "mimetype": "application/julia",
   "name": "julia",
   "version": "1.8.3"
  }
 },
 "nbformat": 4,
 "nbformat_minor": 5
}
